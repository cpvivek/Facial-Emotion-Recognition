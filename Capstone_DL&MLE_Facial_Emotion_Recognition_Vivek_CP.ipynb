{
  "nbformat": 4,
  "nbformat_minor": 0,
  "metadata": {
    "colab": {
      "name": "Capstone_DL&MLE_Facial_Emotion_Recognition_Vivek_CP.ipynb",
      "provenance": [],
      "collapsed_sections": [],
      "include_colab_link": true
    },
    "kernelspec": {
      "display_name": "Python 3",
      "name": "python3"
    },
    "accelerator": "GPU"
  },
  "cells": [
    {
      "cell_type": "markdown",
      "metadata": {
        "id": "view-in-github",
        "colab_type": "text"
      },
      "source": [
        "<a href=\"https://colab.research.google.com/github/cpvivek/Facial-Emotion-Recognition/blob/main/Capstone_DL%26MLE_Facial_Emotion_Recognition_Vivek_CP.ipynb\" target=\"_parent\"><img src=\"https://colab.research.google.com/assets/colab-badge.svg\" alt=\"Open In Colab\"/></a>"
      ]
    },
    {
      "cell_type": "markdown",
      "metadata": {
        "id": "_adQ5zbi5U3Z"
      },
      "source": [
        "# Facial Emotion Detection\n",
        "In this project, we are aiming to develop a CNN netwrok to detect 7 different human emotions in real time over a live web-cam feed. We'll also be deploying a web app to run this model."
      ]
    },
    {
      "cell_type": "markdown",
      "metadata": {
        "id": "bTagtqGLoXLd"
      },
      "source": [
        "Importing necessary libraries including tensorflow, keras, sklearn and opencv"
      ]
    },
    {
      "cell_type": "code",
      "metadata": {
        "id": "I200zV42T-ye"
      },
      "source": [
        "# import necessary files\n",
        "import cv2\n",
        "import numpy as np\n",
        "import pandas as pd\n",
        "import matplotlib.pyplot as plt"
      ],
      "execution_count": 1,
      "outputs": []
    },
    {
      "cell_type": "code",
      "metadata": {
        "id": "wH3rfnChvO5m"
      },
      "source": [
        "import keras\n",
        "import tensorflow as tf\n",
        "from keras.utils import np_utils\n",
        "from keras.models import Sequential \n",
        "from keras.layers import Dense, Conv2D, MaxPooling2D, BatchNormalization, Dropout, Flatten"
      ],
      "execution_count": 2,
      "outputs": []
    },
    {
      "cell_type": "markdown",
      "metadata": {
        "id": "72-k5mJMofof"
      },
      "source": [
        "Importing dataset sourced from kaggle"
      ]
    },
    {
      "cell_type": "code",
      "metadata": {
        "id": "8dGzzjaX_ynd",
        "colab": {
          "base_uri": "https://localhost:8080/"
        },
        "outputId": "e1466d9b-d8ce-4251-bf76-d43f98a2f7d2"
      },
      "source": [
        "# mounting drive\n",
        "from google.colab import drive\n",
        "drive.mount('/content/drive')"
      ],
      "execution_count": 3,
      "outputs": [
        {
          "output_type": "stream",
          "name": "stdout",
          "text": [
            "Mounted at /content/drive\n"
          ]
        }
      ]
    },
    {
      "cell_type": "markdown",
      "metadata": {
        "id": "VawKE3CGomDk"
      },
      "source": [
        "reading the csv file."
      ]
    },
    {
      "cell_type": "code",
      "metadata": {
        "id": "9FDaaif4sb2p"
      },
      "source": [
        "df = pd.read_csv('/content/drive/MyDrive/Alma Better Pro/Alma Better Pro Program/Module 4: Machine Learning/Data Sets/icml_face_data.csv')\n",
        "# for i in range(len(df[' pixels'])):\n",
        "#   df[' pixels'][i] = np.fromstring(df[' pixels'][i],sep=' ',dtype='float32')\n",
        "#   df[' pixels'][i] = np.asarray(df[' pixels'][i]).reshape(48,48,1)\n",
        "# train_data = df[df[' Usage']=='Training']\n",
        "# val_data = df[df[' Usage']=='PublicTest']\n",
        "# test_data = df[df[' Usage']=='PrivateTest']"
      ],
      "execution_count": 4,
      "outputs": []
    },
    {
      "cell_type": "markdown",
      "source": [
        "Let's look into our dataset"
      ],
      "metadata": {
        "id": "VQUjjIU6wDbp"
      }
    },
    {
      "cell_type": "code",
      "source": [
        "df.columns"
      ],
      "metadata": {
        "colab": {
          "base_uri": "https://localhost:8080/"
        },
        "id": "QuJoqvJ3wIV0",
        "outputId": "f4314cad-9a3a-4467-f4b2-a70dc4debd17"
      },
      "execution_count": null,
      "outputs": [
        {
          "output_type": "execute_result",
          "data": {
            "text/plain": [
              "Index(['emotion', ' Usage', ' pixels'], dtype='object')"
            ]
          },
          "metadata": {},
          "execution_count": 5
        }
      ]
    },
    {
      "cell_type": "markdown",
      "source": [
        "So the dataset is not all that complicated.\n",
        "\n",
        "We've got 'emotion' field indicating different emotions.\n",
        "\n",
        "I believe since this is a dataset used in kaggle competitions, they've went ahead and done the training, validation and test segregation, labeled by 'Usage' column\n",
        "\n",
        "And finally in the 'pixels' field, we have the pixelated form of the image, flattened into an 1 dimension array. "
      ],
      "metadata": {
        "id": "l0v6Ru-BwKYy"
      }
    },
    {
      "cell_type": "code",
      "source": [
        "df.info()"
      ],
      "metadata": {
        "colab": {
          "base_uri": "https://localhost:8080/"
        },
        "id": "Yu_6lrbYv93R",
        "outputId": "3b364100-3910-4fc2-b2e0-cea9a9e7e525"
      },
      "execution_count": null,
      "outputs": [
        {
          "output_type": "stream",
          "name": "stdout",
          "text": [
            "<class 'pandas.core.frame.DataFrame'>\n",
            "RangeIndex: 35887 entries, 0 to 35886\n",
            "Data columns (total 3 columns):\n",
            " #   Column   Non-Null Count  Dtype \n",
            "---  ------   --------------  ----- \n",
            " 0   emotion  35887 non-null  int64 \n",
            " 1    Usage   35887 non-null  object\n",
            " 2    pixels  35887 non-null  object\n",
            "dtypes: int64(1), object(2)\n",
            "memory usage: 841.2+ KB\n"
          ]
        }
      ]
    },
    {
      "cell_type": "markdown",
      "source": [
        "The pixel field is stored as a string at the moment. We'll have to convert that into a 48x48x1 array with float values."
      ],
      "metadata": {
        "id": "SQQXxPdgwwTq"
      }
    },
    {
      "cell_type": "code",
      "source": [
        "#using lambda function to achieve this conversion\n",
        "df[' pixels']=df[' pixels'].apply(lambda x: np.fromstring(x, sep=' ',dtype='float32')) #converting string to float separated by ' ' \n",
        "df[' pixels']=df[' pixels'].apply(lambda x:np.asarray(x.reshape(48,48,1))) #reshaping to 48x48x1"
      ],
      "metadata": {
        "id": "iR7QUDPLiqgH"
      },
      "execution_count": 5,
      "outputs": []
    },
    {
      "cell_type": "markdown",
      "source": [
        "Let's look into emotions field."
      ],
      "metadata": {
        "id": "27sj2NJR_EE0"
      }
    },
    {
      "cell_type": "code",
      "source": [
        "df['emotion'].unique()"
      ],
      "metadata": {
        "colab": {
          "base_uri": "https://localhost:8080/"
        },
        "id": "TFYx4zsX_Bsu",
        "outputId": "e2b962c7-07dd-4c46-86e3-6575d972ea88"
      },
      "execution_count": null,
      "outputs": [
        {
          "output_type": "execute_result",
          "data": {
            "text/plain": [
              "array([0, 2, 4, 6, 3, 5, 1])"
            ]
          },
          "metadata": {},
          "execution_count": 25
        }
      ]
    },
    {
      "cell_type": "markdown",
      "source": [
        "The dataset contains 7 different emotions labeled using number from 0 to 6."
      ],
      "metadata": {
        "id": "U7QM5p3bb_ZP"
      }
    },
    {
      "cell_type": "markdown",
      "source": [
        "Let's segregate our training, validation and test sets right away. \n",
        "\n",
        "Public Test would be put into validation and Private test into test set. "
      ],
      "metadata": {
        "id": "jobLtXfu_2Yl"
      }
    },
    {
      "cell_type": "code",
      "source": [
        "df[' Usage'].value_counts()"
      ],
      "metadata": {
        "colab": {
          "base_uri": "https://localhost:8080/"
        },
        "id": "nX41-YAO5XZ5",
        "outputId": "0fb91573-e337-477b-ad5b-afc565ce6aec"
      },
      "execution_count": null,
      "outputs": [
        {
          "output_type": "execute_result",
          "data": {
            "text/plain": [
              "Training       28709\n",
              "PublicTest      3589\n",
              "PrivateTest     3589\n",
              "Name:  Usage, dtype: int64"
            ]
          },
          "metadata": {},
          "execution_count": 26
        }
      ]
    },
    {
      "cell_type": "code",
      "source": [
        "#defininng train, val and test data.\n",
        "training_data=df[df[' Usage']=='Training']\n",
        "validation_data=df[df[' Usage']=='PublicTest']\n",
        "testing_data=df[df[' Usage']=='PrivateTest']"
      ],
      "metadata": {
        "id": "cv6UTPyhAtTP"
      },
      "execution_count": 6,
      "outputs": []
    },
    {
      "cell_type": "code",
      "source": [
        "training_data['emotion'].value_counts()"
      ],
      "metadata": {
        "colab": {
          "base_uri": "https://localhost:8080/"
        },
        "id": "WnVhkAlVBV8m",
        "outputId": "843d54e0-4c59-4677-b783-fa1a777c4cb0"
      },
      "execution_count": null,
      "outputs": [
        {
          "output_type": "execute_result",
          "data": {
            "text/plain": [
              "3    7215\n",
              "6    4965\n",
              "4    4830\n",
              "2    4097\n",
              "0    3995\n",
              "5    3171\n",
              "1     436\n",
              "Name: emotion, dtype: int64"
            ]
          },
          "metadata": {},
          "execution_count": 8
        }
      ]
    },
    {
      "cell_type": "markdown",
      "source": [
        "We can see that there is considerable amount of imbalance in the dataset wrt to emotions in training dataset. This will create bias in the model and result in misclassifying. \n",
        "\n",
        "We can treat this issue by data augmentation."
      ],
      "metadata": {
        "id": "1EqSHNiPccDC"
      }
    },
    {
      "cell_type": "markdown",
      "metadata": {
        "id": "s3SouBFAovQm"
      },
      "source": [
        "Using keras for data augmentation."
      ]
    },
    {
      "cell_type": "markdown",
      "metadata": {
        "id": "PN8crTUqpoOJ"
      },
      "source": [
        "x_train formation\n"
      ]
    },
    {
      "cell_type": "code",
      "metadata": {
        "id": "tlKUs7Dgo-iS",
        "colab": {
          "base_uri": "https://localhost:8080/"
        },
        "outputId": "b630ba2b-1235-4b34-c00c-3a50611d8843"
      },
      "source": [
        "x_train=[]\n",
        "for i in range(len(training_data[' pixels'])):\n",
        "  x_train.append(training_data[' pixels'][i])\n",
        "x_train=np.asarray(x_train) #since we need arrays as input to CNN \n",
        "x_train=x_train.reshape(len(x_train),48,48,1)\n",
        "y_train=np.array(training_data['emotion'])\n",
        "y_train=y_train.astype(int)\n",
        "y_train=np_utils.to_categorical(y_train,7)\n",
        "# shape of training data\n",
        "x_train.shape, y_train.shape"
      ],
      "execution_count": 7,
      "outputs": [
        {
          "output_type": "execute_result",
          "data": {
            "text/plain": [
              "((28709, 48, 48, 1), (28709, 7))"
            ]
          },
          "metadata": {},
          "execution_count": 7
        }
      ]
    },
    {
      "cell_type": "markdown",
      "metadata": {
        "id": "gBw-ql-BpuFm"
      },
      "source": [
        "x_val"
      ]
    },
    {
      "cell_type": "code",
      "metadata": {
        "id": "ObQ-pAHq9zuy",
        "colab": {
          "base_uri": "https://localhost:8080/"
        },
        "outputId": "6d5b81e5-42d0-479c-e595-9588c274b3e3"
      },
      "source": [
        "x_val = []\n",
        "for i in validation_data[' pixels']:\n",
        "  x_val.append(i)\n",
        "x_val=np.asarray(x_val)\n",
        "x_val= x_val.reshape(len(x_val),48,48,1)\n",
        "y_val=np.array(validation_data['emotion'])\n",
        "y_val=y_val.astype(int)\n",
        "y_val=np_utils.to_categorical(y_val,7)\n",
        "\n",
        "\n",
        "\n",
        "x_val.shape,y_val.shape"
      ],
      "execution_count": 8,
      "outputs": [
        {
          "output_type": "execute_result",
          "data": {
            "text/plain": [
              "((3589, 48, 48, 1), (3589, 7))"
            ]
          },
          "metadata": {},
          "execution_count": 8
        }
      ]
    },
    {
      "cell_type": "markdown",
      "metadata": {
        "id": "7ggjy26zpwU7"
      },
      "source": [
        "Preprocessing x_test using keras"
      ]
    },
    {
      "cell_type": "code",
      "metadata": {
        "id": "sC60Rvk8v4Td",
        "colab": {
          "base_uri": "https://localhost:8080/"
        },
        "outputId": "0e377b93-a07c-4496-faea-7b917166edb1"
      },
      "source": [
        "x_test = []\n",
        "\n",
        "for i in testing_data[' pixels']:\n",
        "  x_test.append(i)\n",
        "x_test=np.array(x_test)\n",
        "x_test=x_test.reshape(len(x_test),48,48,1)\n",
        "y_test=np.array(testing_data['emotion'])\n",
        "y_test=y_test.astype(int)\n",
        "y_test=np_utils.to_categorical(y_test,7)\n",
        "# code here\n",
        "\n",
        "# then check shape\n",
        "x_test.shape,y_test.shape"
      ],
      "execution_count": 9,
      "outputs": [
        {
          "output_type": "execute_result",
          "data": {
            "text/plain": [
              "((3589, 48, 48, 1), (3589, 7))"
            ]
          },
          "metadata": {},
          "execution_count": 9
        }
      ]
    },
    {
      "cell_type": "markdown",
      "source": [
        "Data Augmentation Process.\n",
        "\n",
        "We can observe that there is a imbalance in labels in train, val and test sets. This will result in bias in the model twoards certain emotions.\n",
        "\n",
        "We'll be able to sort this issue adding augmented images to data to deal with imbalance."
      ],
      "metadata": {
        "id": "-QvTQIujFdup"
      }
    },
    {
      "cell_type": "code",
      "source": [
        "from keras.preprocessing.image import ImageDataGenerator\n",
        "\n",
        "datagen= ImageDataGenerator(\n",
        "    rescale=1./255, #rescaling\n",
        "    rotation_range=10,#rotating the image\n",
        "    horizontal_flip=True,#flipping the image horizontally\n",
        "    width_shift_range=0.1,\n",
        "    height_shift_range=0.1, #shift in width and height\n",
        "    fill_mode='nearest'\n",
        ")\n",
        "testgen= ImageDataGenerator(rescale=1./255)"
      ],
      "metadata": {
        "id": "2k5QooYQFgQ8"
      },
      "execution_count": 10,
      "outputs": []
    },
    {
      "cell_type": "code",
      "source": [
        "datagen.fit(x_train)"
      ],
      "metadata": {
        "id": "nnZc3EWyHM6u"
      },
      "execution_count": 11,
      "outputs": []
    },
    {
      "cell_type": "code",
      "source": [
        "train_flow=datagen.flow(x_train,y_train,batch_size=64)\n",
        "test_flow=testgen.flow(x_test,y_test,batch_size=64)"
      ],
      "metadata": {
        "id": "ide0DSrfH92S"
      },
      "execution_count": 12,
      "outputs": []
    },
    {
      "cell_type": "markdown",
      "source": [
        "Building models usign keras layers and keras sequential model"
      ],
      "metadata": {
        "id": "2-EWkalSsTkS"
      }
    },
    {
      "cell_type": "code",
      "source": [
        "from keras.models import Model\n",
        "from keras.layers import Input, Dense, Flatten, Dropout, BatchNormalization\n",
        "from keras.layers.convolutional import Conv2D\n",
        "from keras.layers.pooling import MaxPooling2D\n",
        "from keras.layers.merge import concatenate\n",
        "\n",
        "from keras.regularizers import l1, l2\n",
        "from matplotlib import pyplot as plt\n",
        "from sklearn.metrics import confusion_matrix\n"
      ],
      "metadata": {
        "id": "YPOYqwX9JStx"
      },
      "execution_count": 13,
      "outputs": []
    },
    {
      "cell_type": "markdown",
      "source": [
        "#Model 1"
      ],
      "metadata": {
        "id": "gkV9yVC2oABf"
      }
    },
    {
      "cell_type": "code",
      "source": [
        "model_fer_1 = Sequential()\n",
        "\n",
        "model_fer_1.add(Conv2D(64, kernel_size=(3, 3), activation='relu', input_shape=(48,48,1)))\n",
        "model_fer_1.add(Conv2D(64, kernel_size=(3, 3), activation='relu', padding='same'))\n",
        "model_fer_1.add(BatchNormalization())\n",
        "model_fer_1.add(MaxPooling2D(pool_size=(2, 2), strides=(2, 2)))\n",
        "model_fer_1.add(Dropout(0.5))\n",
        "\n",
        "model_fer_1.add(Conv2D(128, kernel_size=(3, 3), activation='relu', padding='same'))\n",
        "model_fer_1.add(BatchNormalization())\n",
        "model_fer_1.add(Conv2D(128, kernel_size=(3, 3), activation='relu', padding='same'))\n",
        "model_fer_1.add(BatchNormalization())\n",
        "model_fer_1.add(MaxPooling2D(pool_size=(2, 2), strides=(2, 2)))\n",
        "model_fer_1.add(Dropout(0.5))\n",
        "\n",
        "model_fer_1.add(Conv2D(256, kernel_size=(3, 3), activation='relu', padding='same'))\n",
        "model_fer_1.add(BatchNormalization())\n",
        "model_fer_1.add(Conv2D(256, kernel_size=(3, 3), activation='relu', padding='same'))\n",
        "model_fer_1.add(BatchNormalization())\n",
        "model_fer_1.add(MaxPooling2D(pool_size=(2, 2), strides=(2, 2)))\n",
        "model_fer_1.add(Dropout(0.5))\n",
        "\n",
        "model_fer_1.add(Conv2D(512, kernel_size=(3, 3), activation='relu', padding='same'))\n",
        "model_fer_1.add(BatchNormalization())\n",
        "model_fer_1.add(Conv2D(512, kernel_size=(3, 3), activation='relu', padding='same'))\n",
        "model_fer_1.add(BatchNormalization())\n",
        "model_fer_1.add(MaxPooling2D(pool_size=(2, 2), strides=(2, 2)))\n",
        "model_fer_1.add(Dropout(0.5))\n",
        "\n",
        "model_fer_1.add(Flatten())\n",
        "\n",
        "model_fer_1.add(Dense(512, activation='relu'))\n",
        "model_fer_1.add(Dropout(0.4))\n",
        "model_fer_1.add(Dense(256, activation='relu'))\n",
        "model_fer_1.add(Dropout(0.4))\n",
        "model_fer_1.add(Dense(128, activation='relu'))\n",
        "model_fer_1.add(Dropout(0.5))\n",
        "model_fer_1.add(Dense(7, activation='softmax'))\n",
        "model_fer_1.summary()"
      ],
      "metadata": {
        "id": "BfZ-hkfuIeKB",
        "colab": {
          "base_uri": "https://localhost:8080/"
        },
        "outputId": "3313e37d-bd09-412c-9925-1f1e4685d0a5"
      },
      "execution_count": 51,
      "outputs": [
        {
          "output_type": "stream",
          "name": "stdout",
          "text": [
            "Model: \"sequential\"\n",
            "_________________________________________________________________\n",
            " Layer (type)                Output Shape              Param #   \n",
            "=================================================================\n",
            " conv2d (Conv2D)             (None, 46, 46, 64)        640       \n",
            "                                                                 \n",
            " conv2d_1 (Conv2D)           (None, 46, 46, 64)        36928     \n",
            "                                                                 \n",
            " batch_normalization_6 (Batc  (None, 46, 46, 64)       256       \n",
            " hNormalization)                                                 \n",
            "                                                                 \n",
            " max_pooling2d (MaxPooling2D  (None, 23, 23, 64)       0         \n",
            " )                                                               \n",
            "                                                                 \n",
            " dropout (Dropout)           (None, 23, 23, 64)        0         \n",
            "                                                                 \n",
            " conv2d_2 (Conv2D)           (None, 23, 23, 128)       73856     \n",
            "                                                                 \n",
            " batch_normalization_7 (Batc  (None, 23, 23, 128)      512       \n",
            " hNormalization)                                                 \n",
            "                                                                 \n",
            " conv2d_3 (Conv2D)           (None, 23, 23, 128)       147584    \n",
            "                                                                 \n",
            " batch_normalization_8 (Batc  (None, 23, 23, 128)      512       \n",
            " hNormalization)                                                 \n",
            "                                                                 \n",
            " max_pooling2d_1 (MaxPooling  (None, 11, 11, 128)      0         \n",
            " 2D)                                                             \n",
            "                                                                 \n",
            " dropout_1 (Dropout)         (None, 11, 11, 128)       0         \n",
            "                                                                 \n",
            " conv2d_4 (Conv2D)           (None, 11, 11, 256)       295168    \n",
            "                                                                 \n",
            " batch_normalization_9 (Batc  (None, 11, 11, 256)      1024      \n",
            " hNormalization)                                                 \n",
            "                                                                 \n",
            " conv2d_5 (Conv2D)           (None, 11, 11, 256)       590080    \n",
            "                                                                 \n",
            " batch_normalization_10 (Bat  (None, 11, 11, 256)      1024      \n",
            " chNormalization)                                                \n",
            "                                                                 \n",
            " max_pooling2d_2 (MaxPooling  (None, 5, 5, 256)        0         \n",
            " 2D)                                                             \n",
            "                                                                 \n",
            " dropout_2 (Dropout)         (None, 5, 5, 256)         0         \n",
            "                                                                 \n",
            " conv2d_6 (Conv2D)           (None, 5, 5, 512)         1180160   \n",
            "                                                                 \n",
            " batch_normalization_11 (Bat  (None, 5, 5, 512)        2048      \n",
            " chNormalization)                                                \n",
            "                                                                 \n",
            " conv2d_7 (Conv2D)           (None, 5, 5, 512)         2359808   \n",
            "                                                                 \n",
            " batch_normalization_12 (Bat  (None, 5, 5, 512)        2048      \n",
            " chNormalization)                                                \n",
            "                                                                 \n",
            " max_pooling2d_3 (MaxPooling  (None, 2, 2, 512)        0         \n",
            " 2D)                                                             \n",
            "                                                                 \n",
            " dropout_3 (Dropout)         (None, 2, 2, 512)         0         \n",
            "                                                                 \n",
            " flatten (Flatten)           (None, 2048)              0         \n",
            "                                                                 \n",
            " dense (Dense)               (None, 512)               1049088   \n",
            "                                                                 \n",
            " dropout_4 (Dropout)         (None, 512)               0         \n",
            "                                                                 \n",
            " dense_1 (Dense)             (None, 256)               131328    \n",
            "                                                                 \n",
            " dropout_5 (Dropout)         (None, 256)               0         \n",
            "                                                                 \n",
            " dense_2 (Dense)             (None, 128)               32896     \n",
            "                                                                 \n",
            " dropout_6 (Dropout)         (None, 128)               0         \n",
            "                                                                 \n",
            " dense_3 (Dense)             (None, 7)                 903       \n",
            "                                                                 \n",
            "=================================================================\n",
            "Total params: 5,905,863\n",
            "Trainable params: 5,902,151\n",
            "Non-trainable params: 3,712\n",
            "_________________________________________________________________\n"
          ]
        }
      ]
    },
    {
      "cell_type": "code",
      "source": [
        "model=model_fer_1\n",
        "opt=tf.keras.optimizers.Adam(learning_rate=0.0001,decay=1e-6)\n",
        "model.compile(loss='categorical_crossentropy',optimizer=opt, metrics=['accuracy'])"
      ],
      "metadata": {
        "id": "qmy5Ia2KdQ4M"
      },
      "execution_count": 53,
      "outputs": []
    },
    {
      "cell_type": "code",
      "source": [
        "num_epochs = 100\n",
        "history = model.fit(train_flow, \n",
        "                    steps_per_epoch=len(x_train) / 64, \n",
        "                    epochs=num_epochs,  \n",
        "                    verbose=1,  \n",
        "                    validation_data=test_flow)\n"
      ],
      "metadata": {
        "colab": {
          "base_uri": "https://localhost:8080/"
        },
        "id": "3Z0xo7czdaxC",
        "outputId": "5886c63c-99f6-407a-c38a-6fc1d9426c9e"
      },
      "execution_count": 55,
      "outputs": [
        {
          "output_type": "stream",
          "name": "stdout",
          "text": [
            "Epoch 1/100\n",
            "448/448 [==============================] - 23s 51ms/step - loss: 2.1249 - accuracy: 0.1864 - val_loss: 1.8364 - val_accuracy: 0.2449\n",
            "Epoch 2/100\n",
            "448/448 [==============================] - 21s 46ms/step - loss: 1.9028 - accuracy: 0.2012 - val_loss: 1.8227 - val_accuracy: 0.2441\n",
            "Epoch 3/100\n",
            "448/448 [==============================] - 21s 46ms/step - loss: 1.8622 - accuracy: 0.2146 - val_loss: 1.8120 - val_accuracy: 0.2444\n",
            "Epoch 4/100\n",
            "448/448 [==============================] - 22s 48ms/step - loss: 1.8467 - accuracy: 0.2223 - val_loss: 1.8247 - val_accuracy: 0.2449\n",
            "Epoch 5/100\n",
            "448/448 [==============================] - 21s 47ms/step - loss: 1.8363 - accuracy: 0.2275 - val_loss: 1.8059 - val_accuracy: 0.2449\n",
            "Epoch 6/100\n",
            "448/448 [==============================] - 21s 46ms/step - loss: 1.8313 - accuracy: 0.2349 - val_loss: 1.8092 - val_accuracy: 0.2449\n",
            "Epoch 7/100\n",
            "448/448 [==============================] - 21s 46ms/step - loss: 1.8248 - accuracy: 0.2399 - val_loss: 1.8106 - val_accuracy: 0.2449\n",
            "Epoch 8/100\n",
            "448/448 [==============================] - 21s 46ms/step - loss: 1.8195 - accuracy: 0.2404 - val_loss: 1.7955 - val_accuracy: 0.2449\n",
            "Epoch 9/100\n",
            "448/448 [==============================] - 22s 48ms/step - loss: 1.8104 - accuracy: 0.2434 - val_loss: 1.8015 - val_accuracy: 0.2449\n",
            "Epoch 10/100\n",
            "448/448 [==============================] - 21s 46ms/step - loss: 1.8064 - accuracy: 0.2451 - val_loss: 1.7932 - val_accuracy: 0.2452\n",
            "Epoch 11/100\n",
            "448/448 [==============================] - 21s 46ms/step - loss: 1.7947 - accuracy: 0.2534 - val_loss: 1.7636 - val_accuracy: 0.2675\n",
            "Epoch 12/100\n",
            "448/448 [==============================] - 21s 46ms/step - loss: 1.7742 - accuracy: 0.2679 - val_loss: 1.7183 - val_accuracy: 0.2928\n",
            "Epoch 13/100\n",
            "448/448 [==============================] - 21s 46ms/step - loss: 1.7521 - accuracy: 0.2836 - val_loss: 1.8490 - val_accuracy: 0.2647\n",
            "Epoch 14/100\n",
            "448/448 [==============================] - 21s 46ms/step - loss: 1.7193 - accuracy: 0.3014 - val_loss: 1.6606 - val_accuracy: 0.3118\n",
            "Epoch 15/100\n",
            "448/448 [==============================] - 21s 46ms/step - loss: 1.6955 - accuracy: 0.3171 - val_loss: 1.7012 - val_accuracy: 0.3190\n",
            "Epoch 16/100\n",
            "448/448 [==============================] - 21s 46ms/step - loss: 1.6540 - accuracy: 0.3370 - val_loss: 1.5900 - val_accuracy: 0.3497\n",
            "Epoch 17/100\n",
            "448/448 [==============================] - 21s 46ms/step - loss: 1.6213 - accuracy: 0.3512 - val_loss: 1.5420 - val_accuracy: 0.3812\n",
            "Epoch 18/100\n",
            "448/448 [==============================] - 21s 46ms/step - loss: 1.5892 - accuracy: 0.3692 - val_loss: 1.6075 - val_accuracy: 0.3514\n",
            "Epoch 19/100\n",
            "448/448 [==============================] - 21s 46ms/step - loss: 1.5605 - accuracy: 0.3826 - val_loss: 1.6306 - val_accuracy: 0.3739\n",
            "Epoch 20/100\n",
            "448/448 [==============================] - 21s 46ms/step - loss: 1.5276 - accuracy: 0.4002 - val_loss: 1.4130 - val_accuracy: 0.4383\n",
            "Epoch 21/100\n",
            "448/448 [==============================] - 21s 46ms/step - loss: 1.5078 - accuracy: 0.4105 - val_loss: 1.4115 - val_accuracy: 0.4503\n",
            "Epoch 22/100\n",
            "448/448 [==============================] - 21s 46ms/step - loss: 1.4790 - accuracy: 0.4206 - val_loss: 1.3744 - val_accuracy: 0.4681\n",
            "Epoch 23/100\n",
            "448/448 [==============================] - 21s 46ms/step - loss: 1.4525 - accuracy: 0.4370 - val_loss: 1.4296 - val_accuracy: 0.4475\n",
            "Epoch 24/100\n",
            "448/448 [==============================] - 21s 46ms/step - loss: 1.4372 - accuracy: 0.4423 - val_loss: 1.3071 - val_accuracy: 0.4960\n",
            "Epoch 25/100\n",
            "448/448 [==============================] - 21s 46ms/step - loss: 1.4179 - accuracy: 0.4518 - val_loss: 1.2965 - val_accuracy: 0.5013\n",
            "Epoch 26/100\n",
            "448/448 [==============================] - 21s 46ms/step - loss: 1.3898 - accuracy: 0.4670 - val_loss: 1.2664 - val_accuracy: 0.5152\n",
            "Epoch 27/100\n",
            "448/448 [==============================] - 21s 46ms/step - loss: 1.3738 - accuracy: 0.4741 - val_loss: 1.2582 - val_accuracy: 0.5286\n",
            "Epoch 28/100\n",
            "448/448 [==============================] - 21s 46ms/step - loss: 1.3589 - accuracy: 0.4821 - val_loss: 1.2576 - val_accuracy: 0.5149\n",
            "Epoch 29/100\n",
            "448/448 [==============================] - 21s 46ms/step - loss: 1.3471 - accuracy: 0.4856 - val_loss: 1.2879 - val_accuracy: 0.5288\n",
            "Epoch 30/100\n",
            "448/448 [==============================] - 21s 46ms/step - loss: 1.3351 - accuracy: 0.4970 - val_loss: 1.2097 - val_accuracy: 0.5419\n",
            "Epoch 31/100\n",
            "448/448 [==============================] - 21s 46ms/step - loss: 1.3173 - accuracy: 0.4979 - val_loss: 1.1944 - val_accuracy: 0.5467\n",
            "Epoch 32/100\n",
            "448/448 [==============================] - 21s 46ms/step - loss: 1.3050 - accuracy: 0.5004 - val_loss: 1.1595 - val_accuracy: 0.5559\n",
            "Epoch 33/100\n",
            "448/448 [==============================] - 21s 46ms/step - loss: 1.2926 - accuracy: 0.5071 - val_loss: 1.1777 - val_accuracy: 0.5433\n",
            "Epoch 34/100\n",
            "448/448 [==============================] - 21s 46ms/step - loss: 1.2844 - accuracy: 0.5174 - val_loss: 1.1907 - val_accuracy: 0.5545\n",
            "Epoch 35/100\n",
            "448/448 [==============================] - 21s 46ms/step - loss: 1.2683 - accuracy: 0.5248 - val_loss: 1.1590 - val_accuracy: 0.5542\n",
            "Epoch 36/100\n",
            "448/448 [==============================] - 21s 46ms/step - loss: 1.2587 - accuracy: 0.5250 - val_loss: 1.1601 - val_accuracy: 0.5584\n",
            "Epoch 37/100\n",
            "448/448 [==============================] - 21s 46ms/step - loss: 1.2472 - accuracy: 0.5307 - val_loss: 1.1298 - val_accuracy: 0.5706\n",
            "Epoch 38/100\n",
            "448/448 [==============================] - 21s 46ms/step - loss: 1.2405 - accuracy: 0.5327 - val_loss: 1.1111 - val_accuracy: 0.5751\n",
            "Epoch 39/100\n",
            "448/448 [==============================] - 21s 46ms/step - loss: 1.2254 - accuracy: 0.5392 - val_loss: 1.1082 - val_accuracy: 0.5787\n",
            "Epoch 40/100\n",
            "448/448 [==============================] - 21s 46ms/step - loss: 1.2164 - accuracy: 0.5482 - val_loss: 1.0954 - val_accuracy: 0.5759\n",
            "Epoch 41/100\n",
            "448/448 [==============================] - 21s 46ms/step - loss: 1.2109 - accuracy: 0.5459 - val_loss: 1.0881 - val_accuracy: 0.5823\n",
            "Epoch 42/100\n",
            "448/448 [==============================] - 21s 46ms/step - loss: 1.1950 - accuracy: 0.5563 - val_loss: 1.0772 - val_accuracy: 0.5910\n",
            "Epoch 43/100\n",
            "448/448 [==============================] - 21s 46ms/step - loss: 1.1947 - accuracy: 0.5575 - val_loss: 1.0896 - val_accuracy: 0.5954\n",
            "Epoch 44/100\n",
            "448/448 [==============================] - 21s 46ms/step - loss: 1.1877 - accuracy: 0.5582 - val_loss: 1.0867 - val_accuracy: 0.5904\n",
            "Epoch 45/100\n",
            "448/448 [==============================] - 21s 46ms/step - loss: 1.1785 - accuracy: 0.5641 - val_loss: 1.0758 - val_accuracy: 0.5988\n",
            "Epoch 46/100\n",
            "448/448 [==============================] - 21s 46ms/step - loss: 1.1682 - accuracy: 0.5639 - val_loss: 1.0960 - val_accuracy: 0.6024\n",
            "Epoch 47/100\n",
            "448/448 [==============================] - 21s 46ms/step - loss: 1.1542 - accuracy: 0.5706 - val_loss: 1.0464 - val_accuracy: 0.6024\n",
            "Epoch 48/100\n",
            "448/448 [==============================] - 21s 46ms/step - loss: 1.1544 - accuracy: 0.5707 - val_loss: 1.0662 - val_accuracy: 0.6013\n",
            "Epoch 49/100\n",
            "448/448 [==============================] - 21s 46ms/step - loss: 1.1455 - accuracy: 0.5784 - val_loss: 1.0489 - val_accuracy: 0.6038\n",
            "Epoch 50/100\n",
            "448/448 [==============================] - 21s 46ms/step - loss: 1.1460 - accuracy: 0.5777 - val_loss: 1.0563 - val_accuracy: 0.6113\n",
            "Epoch 51/100\n",
            "448/448 [==============================] - 21s 46ms/step - loss: 1.1313 - accuracy: 0.5831 - val_loss: 1.0326 - val_accuracy: 0.6160\n",
            "Epoch 52/100\n",
            "448/448 [==============================] - 21s 46ms/step - loss: 1.1299 - accuracy: 0.5810 - val_loss: 1.0196 - val_accuracy: 0.6130\n",
            "Epoch 53/100\n",
            "448/448 [==============================] - 21s 46ms/step - loss: 1.1243 - accuracy: 0.5840 - val_loss: 1.0405 - val_accuracy: 0.6127\n",
            "Epoch 54/100\n",
            "448/448 [==============================] - 21s 46ms/step - loss: 1.1156 - accuracy: 0.5897 - val_loss: 1.0248 - val_accuracy: 0.6099\n",
            "Epoch 55/100\n",
            "448/448 [==============================] - 21s 46ms/step - loss: 1.1078 - accuracy: 0.5915 - val_loss: 1.0093 - val_accuracy: 0.6074\n",
            "Epoch 56/100\n",
            "448/448 [==============================] - 21s 46ms/step - loss: 1.1034 - accuracy: 0.5931 - val_loss: 1.0132 - val_accuracy: 0.6152\n",
            "Epoch 57/100\n",
            "448/448 [==============================] - 21s 46ms/step - loss: 1.1003 - accuracy: 0.5934 - val_loss: 1.0170 - val_accuracy: 0.6172\n",
            "Epoch 58/100\n",
            "448/448 [==============================] - 21s 46ms/step - loss: 1.0872 - accuracy: 0.5971 - val_loss: 1.0347 - val_accuracy: 0.6152\n",
            "Epoch 59/100\n",
            "448/448 [==============================] - 21s 46ms/step - loss: 1.0862 - accuracy: 0.6001 - val_loss: 1.0312 - val_accuracy: 0.6046\n",
            "Epoch 60/100\n",
            "448/448 [==============================] - 21s 46ms/step - loss: 1.0757 - accuracy: 0.6026 - val_loss: 1.0052 - val_accuracy: 0.6275\n",
            "Epoch 61/100\n",
            "448/448 [==============================] - 21s 46ms/step - loss: 1.0716 - accuracy: 0.6037 - val_loss: 0.9934 - val_accuracy: 0.6289\n",
            "Epoch 62/100\n",
            "448/448 [==============================] - 21s 46ms/step - loss: 1.0656 - accuracy: 0.6054 - val_loss: 0.9676 - val_accuracy: 0.6319\n",
            "Epoch 63/100\n",
            "448/448 [==============================] - 21s 46ms/step - loss: 1.0586 - accuracy: 0.6109 - val_loss: 0.9849 - val_accuracy: 0.6294\n",
            "Epoch 64/100\n",
            "448/448 [==============================] - 21s 46ms/step - loss: 1.0569 - accuracy: 0.6116 - val_loss: 1.0057 - val_accuracy: 0.6188\n",
            "Epoch 65/100\n",
            "448/448 [==============================] - 21s 46ms/step - loss: 1.0555 - accuracy: 0.6137 - val_loss: 0.9855 - val_accuracy: 0.6364\n",
            "Epoch 66/100\n",
            "448/448 [==============================] - 21s 46ms/step - loss: 1.0532 - accuracy: 0.6113 - val_loss: 0.9659 - val_accuracy: 0.6286\n",
            "Epoch 67/100\n",
            "448/448 [==============================] - 21s 46ms/step - loss: 1.0432 - accuracy: 0.6125 - val_loss: 0.9568 - val_accuracy: 0.6439\n",
            "Epoch 68/100\n",
            "448/448 [==============================] - 21s 46ms/step - loss: 1.0416 - accuracy: 0.6157 - val_loss: 0.9613 - val_accuracy: 0.6400\n",
            "Epoch 69/100\n",
            "448/448 [==============================] - 21s 46ms/step - loss: 1.0364 - accuracy: 0.6155 - val_loss: 0.9427 - val_accuracy: 0.6450\n",
            "Epoch 70/100\n",
            "448/448 [==============================] - 21s 46ms/step - loss: 1.0295 - accuracy: 0.6205 - val_loss: 0.9785 - val_accuracy: 0.6272\n",
            "Epoch 71/100\n",
            "448/448 [==============================] - 21s 46ms/step - loss: 1.0265 - accuracy: 0.6181 - val_loss: 0.9547 - val_accuracy: 0.6447\n",
            "Epoch 72/100\n",
            "448/448 [==============================] - 21s 46ms/step - loss: 1.0168 - accuracy: 0.6238 - val_loss: 0.9456 - val_accuracy: 0.6464\n",
            "Epoch 73/100\n",
            "448/448 [==============================] - 21s 46ms/step - loss: 1.0167 - accuracy: 0.6226 - val_loss: 0.9552 - val_accuracy: 0.6447\n",
            "Epoch 74/100\n",
            "448/448 [==============================] - 21s 46ms/step - loss: 1.0096 - accuracy: 0.6270 - val_loss: 0.9358 - val_accuracy: 0.6500\n",
            "Epoch 75/100\n",
            "448/448 [==============================] - 21s 46ms/step - loss: 1.0032 - accuracy: 0.6273 - val_loss: 0.9374 - val_accuracy: 0.6364\n",
            "Epoch 76/100\n",
            "448/448 [==============================] - 21s 46ms/step - loss: 0.9970 - accuracy: 0.6311 - val_loss: 0.9312 - val_accuracy: 0.6447\n",
            "Epoch 77/100\n",
            "448/448 [==============================] - 21s 46ms/step - loss: 1.0033 - accuracy: 0.6295 - val_loss: 0.9454 - val_accuracy: 0.6383\n",
            "Epoch 78/100\n",
            "448/448 [==============================] - 21s 46ms/step - loss: 0.9942 - accuracy: 0.6328 - val_loss: 0.9386 - val_accuracy: 0.6439\n",
            "Epoch 79/100\n",
            "448/448 [==============================] - 21s 46ms/step - loss: 0.9870 - accuracy: 0.6365 - val_loss: 0.9371 - val_accuracy: 0.6414\n",
            "Epoch 80/100\n",
            "448/448 [==============================] - 21s 46ms/step - loss: 0.9874 - accuracy: 0.6359 - val_loss: 0.9303 - val_accuracy: 0.6512\n",
            "Epoch 81/100\n",
            "448/448 [==============================] - 21s 46ms/step - loss: 0.9826 - accuracy: 0.6384 - val_loss: 0.9397 - val_accuracy: 0.6450\n",
            "Epoch 82/100\n",
            "448/448 [==============================] - 21s 46ms/step - loss: 0.9754 - accuracy: 0.6420 - val_loss: 0.9247 - val_accuracy: 0.6545\n",
            "Epoch 83/100\n",
            "448/448 [==============================] - 21s 46ms/step - loss: 0.9718 - accuracy: 0.6437 - val_loss: 0.9333 - val_accuracy: 0.6470\n",
            "Epoch 84/100\n",
            "448/448 [==============================] - 21s 46ms/step - loss: 0.9722 - accuracy: 0.6412 - val_loss: 0.9281 - val_accuracy: 0.6517\n",
            "Epoch 85/100\n",
            "448/448 [==============================] - 21s 46ms/step - loss: 0.9685 - accuracy: 0.6448 - val_loss: 0.9282 - val_accuracy: 0.6514\n",
            "Epoch 86/100\n",
            "448/448 [==============================] - 20s 46ms/step - loss: 0.9650 - accuracy: 0.6447 - val_loss: 0.9644 - val_accuracy: 0.6300\n",
            "Epoch 87/100\n",
            "448/448 [==============================] - 21s 46ms/step - loss: 0.9580 - accuracy: 0.6477 - val_loss: 0.9447 - val_accuracy: 0.6445\n",
            "Epoch 88/100\n",
            "448/448 [==============================] - 21s 46ms/step - loss: 0.9576 - accuracy: 0.6461 - val_loss: 0.9055 - val_accuracy: 0.6573\n",
            "Epoch 89/100\n",
            "448/448 [==============================] - 20s 45ms/step - loss: 0.9516 - accuracy: 0.6502 - val_loss: 0.9147 - val_accuracy: 0.6606\n",
            "Epoch 90/100\n",
            "448/448 [==============================] - 20s 45ms/step - loss: 0.9531 - accuracy: 0.6500 - val_loss: 0.9431 - val_accuracy: 0.6464\n",
            "Epoch 91/100\n",
            "448/448 [==============================] - 20s 45ms/step - loss: 0.9494 - accuracy: 0.6481 - val_loss: 0.9108 - val_accuracy: 0.6604\n",
            "Epoch 92/100\n",
            "448/448 [==============================] - 21s 46ms/step - loss: 0.9406 - accuracy: 0.6535 - val_loss: 0.9322 - val_accuracy: 0.6464\n",
            "Epoch 93/100\n",
            "448/448 [==============================] - 21s 46ms/step - loss: 0.9288 - accuracy: 0.6560 - val_loss: 0.9075 - val_accuracy: 0.6631\n",
            "Epoch 94/100\n",
            "448/448 [==============================] - 21s 46ms/step - loss: 0.9391 - accuracy: 0.6562 - val_loss: 0.9082 - val_accuracy: 0.6626\n",
            "Epoch 95/100\n",
            "448/448 [==============================] - 21s 46ms/step - loss: 0.9323 - accuracy: 0.6548 - val_loss: 0.9038 - val_accuracy: 0.6620\n",
            "Epoch 96/100\n",
            "448/448 [==============================] - 21s 46ms/step - loss: 0.9286 - accuracy: 0.6567 - val_loss: 0.9235 - val_accuracy: 0.6512\n",
            "Epoch 97/100\n",
            "448/448 [==============================] - 21s 46ms/step - loss: 0.9242 - accuracy: 0.6582 - val_loss: 0.9099 - val_accuracy: 0.6584\n",
            "Epoch 98/100\n",
            "448/448 [==============================] - 21s 46ms/step - loss: 0.9224 - accuracy: 0.6627 - val_loss: 0.9098 - val_accuracy: 0.6629\n",
            "Epoch 99/100\n",
            "448/448 [==============================] - 21s 46ms/step - loss: 0.9194 - accuracy: 0.6620 - val_loss: 0.8976 - val_accuracy: 0.6690\n",
            "Epoch 100/100\n",
            "448/448 [==============================] - 21s 46ms/step - loss: 0.9119 - accuracy: 0.6657 - val_loss: 0.9044 - val_accuracy: 0.6668\n"
          ]
        }
      ]
    },
    {
      "cell_type": "code",
      "source": [
        "model_json = model_fer_1.to_json()\n",
        "with open(\"model_fer_1.json\", \"w\") as json_file:\n",
        "    json_file.write(model_json)\n",
        "model.save_weights(\"model_fer_1.h5\")\n",
        "print(\"Saved model to disk\")"
      ],
      "metadata": {
        "colab": {
          "base_uri": "https://localhost:8080/"
        },
        "id": "fbhGnAdplwiQ",
        "outputId": "932075b6-14f6-499a-c5b3-bb37e5a7c681"
      },
      "execution_count": 56,
      "outputs": [
        {
          "output_type": "stream",
          "name": "stdout",
          "text": [
            "Saved model to disk\n"
          ]
        }
      ]
    },
    {
      "cell_type": "code",
      "source": [
        "#total loss and accuracy in training the dataset on test set\n",
        "score = model_fer_1.evaluate(x_test/255., y_test, verbose=1) \n",
        "print(\"Test Loss: \", (score[0]))\n",
        "print(\"Test Accuracy: \",  score[1]*100)"
      ],
      "metadata": {
        "colab": {
          "base_uri": "https://localhost:8080/"
        },
        "id": "AJafCy1LndEz",
        "outputId": "17df7ede-abc2-4da7-b5fe-2cf1589cbd46"
      },
      "execution_count": 57,
      "outputs": [
        {
          "output_type": "stream",
          "name": "stdout",
          "text": [
            "113/113 [==============================] - 3s 11ms/step - loss: 0.9044 - accuracy: 0.6668\n",
            "Test Loss:  0.9043591618537903\n",
            "Test Accuracy:  66.67595505714417\n"
          ]
        }
      ]
    },
    {
      "cell_type": "code",
      "source": [
        "from keras.preprocessing import image\n",
        "def pred_emotion(img_path):\n",
        "  emotion_dict = {0: 'anger', 1: 'disgust', 2: 'fear', 3: 'happy', 4: 'sad',5: 'suprise', 6: 'neutral'}\n",
        "  img = image.load_img(img_path, grayscale=True, target_size=(48,48))\n",
        "  x = image.img_to_array(img)\n",
        "  x = np.expand_dims(x, axis=0)\n",
        "  prediction = np.argmax(model_fer_1.predict(x))\n",
        "  print('The predicted emotion is : ' + emotion_dict[prediction])\n",
        "  my_image = image.load_img(img_path)\n",
        "  plt.imshow(my_image)\n",
        "  result = plt.show()\n",
        "  return result"
      ],
      "metadata": {
        "id": "Cpch4sM7nVH7"
      },
      "execution_count": 58,
      "outputs": []
    },
    {
      "cell_type": "code",
      "source": [
        "pred_emotion(\"/content/drive/MyDrive/Cloudy ML/opencv/happy aishu2.jfif\")"
      ],
      "metadata": {
        "colab": {
          "base_uri": "https://localhost:8080/",
          "height": 321
        },
        "id": "yNKxlrb3novg",
        "outputId": "a21c1ba4-90e7-421d-c3d1-6c0153b4bbfb"
      },
      "execution_count": 62,
      "outputs": [
        {
          "output_type": "stream",
          "name": "stderr",
          "text": [
            "/usr/local/lib/python3.7/dist-packages/keras_preprocessing/image/utils.py:107: UserWarning: grayscale is deprecated. Please use color_mode = \"grayscale\"\n",
            "  warnings.warn('grayscale is deprecated. Please use '\n"
          ]
        },
        {
          "output_type": "stream",
          "name": "stdout",
          "text": [
            "The predicted emotion is : anger\n"
          ]
        },
        {
          "output_type": "display_data",
          "data": {
            "text/plain": [
              "<Figure size 432x288 with 1 Axes>"
            ],
            "image/png": "[encoded data removed]"
          },
          "metadata": {
            "needs_background": "light"
          }
        }
      ]
    },
    {
      "cell_type": "markdown",
      "source": [
        "#Model 2"
      ],
      "metadata": {
        "id": "ZuRRD-S5n7fH"
      }
    },
    {
      "cell_type": "code",
      "source": [
        "# def FER_Model(input_shape=(48,48,1)):\n",
        "#     # first input model\n",
        "#     visible = Input(shape=input_shape, name='input')\n",
        "\n",
        "#     #the 1-st block\n",
        "#     conv1_1 = Conv2D(32, kernel_size=3, strides=(1,1),activation='relu', name = 'conv1_1')(visible)\n",
        "#     pool1_1 = MaxPooling2D(pool_size=(2,2), name = 'pool1_1')(conv1_1)\n",
        "#     conv1_1 = BatchNormalization()(pool1_1)\n",
        "\n",
        "#     #the 2-nd block\n",
        "#     conv2_1 = Conv2D(64, kernel_size=3, strides=(1,1),activation='relu',name = 'conv2_1')(conv1_1)\n",
        "#     pool2_1 = MaxPooling2D(pool_size=(2,2), name = 'pool2_1')(conv2_1)\n",
        "#     conv2_1 = BatchNormalization()(pool2_1)\n",
        "\n",
        "#     #the 3-rd block\n",
        "#     conv3_1 = Conv2D(128, kernel_size=3,strides=(1,1), activation='relu', name = 'conv3_1')(pool2_1)\n",
        "#     pool3_1 = MaxPooling2D(pool_size=(2,2), name = 'pool3_1')(conv3_1)\n",
        "#     conv3_1 = BatchNormalization()(pool3_1)\n",
        "\n",
        "#     #Flatten and output\n",
        "#     flatten = Flatten(name = 'flatten')(conv3_1)\n",
        "#     drop1 = Dense(480, activation='relu', name = 'drop1')(flatten)\n",
        "#     drop2 = Dense(240, activation='relu', name = 'drop2')(drop1)\n",
        "#     ouput = Dense(7, activation='softmax', name = 'output')(drop2)\n",
        "\n",
        "#     # create model \n",
        "#     model = Model(inputs =visible, outputs = ouput)\n",
        "    \n",
        "#     # summary layers\n",
        "#     print(model.summary())\n",
        "    \n",
        "#     return model"
      ],
      "metadata": {
        "id": "N0n1VfjRJ3Hv"
      },
      "execution_count": 14,
      "outputs": []
    },
    {
      "cell_type": "code",
      "source": [
        "model=FER_Model()\n",
        "opt=tf.keras.optimizers.Adam(lr=0.0001,decay=1e-6)\n",
        "model.compile(loss='categorical_crossentropy',optimizer=opt, metrics=['accuracy'])"
      ],
      "metadata": {
        "colab": {
          "base_uri": "https://localhost:8080/"
        },
        "id": "WfT4HNJbK_w0",
        "outputId": "4a364f4b-a9e7-4850-acba-82b5d9e3d3d6"
      },
      "execution_count": 31,
      "outputs": [
        {
          "output_type": "stream",
          "name": "stdout",
          "text": [
            "Model: \"model_1\"\n",
            "_________________________________________________________________\n",
            " Layer (type)                Output Shape              Param #   \n",
            "=================================================================\n",
            " input (InputLayer)          [(None, 48, 48, 1)]       0         \n",
            "                                                                 \n",
            " conv1_1 (Conv2D)            (None, 46, 46, 32)        320       \n",
            "                                                                 \n",
            " pool1_1 (MaxPooling2D)      (None, 23, 23, 32)        0         \n",
            "                                                                 \n",
            " batch_normalization_3 (Batc  (None, 23, 23, 32)       128       \n",
            " hNormalization)                                                 \n",
            "                                                                 \n",
            " conv2_1 (Conv2D)            (None, 21, 21, 64)        18496     \n",
            "                                                                 \n",
            " pool2_1 (MaxPooling2D)      (None, 10, 10, 64)        0         \n",
            "                                                                 \n",
            " conv3_1 (Conv2D)            (None, 8, 8, 128)         73856     \n",
            "                                                                 \n",
            " pool3_1 (MaxPooling2D)      (None, 4, 4, 128)         0         \n",
            "                                                                 \n",
            " batch_normalization_5 (Batc  (None, 4, 4, 128)        512       \n",
            " hNormalization)                                                 \n",
            "                                                                 \n",
            " flatten (Flatten)           (None, 2048)              0         \n",
            "                                                                 \n",
            " drop1 (Dense)               (None, 480)               983520    \n",
            "                                                                 \n",
            " drop2 (Dense)               (None, 240)               115440    \n",
            "                                                                 \n",
            " output (Dense)              (None, 7)                 1687      \n",
            "                                                                 \n",
            "=================================================================\n",
            "Total params: 1,193,959\n",
            "Trainable params: 1,193,639\n",
            "Non-trainable params: 320\n",
            "_________________________________________________________________\n",
            "None\n"
          ]
        },
        {
          "output_type": "stream",
          "name": "stderr",
          "text": [
            "/usr/local/lib/python3.7/dist-packages/keras/optimizer_v2/adam.py:105: UserWarning: The `lr` argument is deprecated, use `learning_rate` instead.\n",
            "  super(Adam, self).__init__(name, **kwargs)\n"
          ]
        }
      ]
    },
    {
      "cell_type": "code",
      "source": [
        "num_epochs = 200\n",
        "history = model.fit_generator(train_flow, \n",
        "                    steps_per_epoch=len(x_train) / 64, \n",
        "                    epochs=num_epochs,  \n",
        "                    verbose=1,  \n",
        "                    validation_data=test_flow)\n"
      ],
      "metadata": {
        "id": "F_vJ-niKNh3J",
        "colab": {
          "base_uri": "https://localhost:8080/"
        },
        "outputId": "e5a6af73-e456-4ca0-f3ba-a4f5d4ea0ac2"
      },
      "execution_count": 17,
      "outputs": [
        {
          "output_type": "stream",
          "name": "stdout",
          "text": [
            "Epoch 1/200\n",
            "  1/448 [..............................] - ETA: 28s - loss: 1.1463 - accuracy: 0.5781"
          ]
        },
        {
          "output_type": "stream",
          "name": "stderr",
          "text": [
            "/usr/local/lib/python3.7/dist-packages/ipykernel_launcher.py:6: UserWarning: `Model.fit_generator` is deprecated and will be removed in a future version. Please use `Model.fit`, which supports generators.\n",
            "  \n"
          ]
        },
        {
          "output_type": "stream",
          "name": "stdout",
          "text": [
            "448/448 [==============================] - 12s 26ms/step - loss: 1.2088 - accuracy: 0.5428 - val_loss: 1.1857 - val_accuracy: 0.5439\n",
            "Epoch 2/200\n",
            "448/448 [==============================] - 12s 26ms/step - loss: 1.1862 - accuracy: 0.5499 - val_loss: 1.1746 - val_accuracy: 0.5397\n",
            "Epoch 3/200\n",
            "448/448 [==============================] - 12s 26ms/step - loss: 1.1676 - accuracy: 0.5562 - val_loss: 1.1707 - val_accuracy: 0.5639\n",
            "Epoch 4/200\n",
            "448/448 [==============================] - 12s 26ms/step - loss: 1.1448 - accuracy: 0.5639 - val_loss: 1.1638 - val_accuracy: 0.5573\n",
            "Epoch 5/200\n",
            "448/448 [==============================] - 12s 26ms/step - loss: 1.1307 - accuracy: 0.5731 - val_loss: 1.1461 - val_accuracy: 0.5737\n",
            "Epoch 6/200\n",
            "448/448 [==============================] - 12s 26ms/step - loss: 1.1108 - accuracy: 0.5812 - val_loss: 1.1486 - val_accuracy: 0.5706\n",
            "Epoch 7/200\n",
            "448/448 [==============================] - 12s 26ms/step - loss: 1.1001 - accuracy: 0.5852 - val_loss: 1.1099 - val_accuracy: 0.5765\n",
            "Epoch 8/200\n",
            "448/448 [==============================] - 12s 26ms/step - loss: 1.0859 - accuracy: 0.5907 - val_loss: 1.0927 - val_accuracy: 0.5804\n",
            "Epoch 9/200\n",
            "448/448 [==============================] - 12s 26ms/step - loss: 1.0762 - accuracy: 0.5917 - val_loss: 1.1106 - val_accuracy: 0.5826\n",
            "Epoch 10/200\n",
            "448/448 [==============================] - 12s 26ms/step - loss: 1.0555 - accuracy: 0.6027 - val_loss: 1.0866 - val_accuracy: 0.5843\n",
            "Epoch 11/200\n",
            "448/448 [==============================] - 11s 26ms/step - loss: 1.0430 - accuracy: 0.6087 - val_loss: 1.1096 - val_accuracy: 0.5709\n",
            "Epoch 12/200\n",
            "448/448 [==============================] - 12s 26ms/step - loss: 1.0361 - accuracy: 0.6120 - val_loss: 1.0957 - val_accuracy: 0.5882\n",
            "Epoch 13/200\n",
            "448/448 [==============================] - 12s 26ms/step - loss: 1.0277 - accuracy: 0.6153 - val_loss: 1.0740 - val_accuracy: 0.5996\n",
            "Epoch 14/200\n",
            "448/448 [==============================] - 12s 26ms/step - loss: 1.0105 - accuracy: 0.6200 - val_loss: 1.0705 - val_accuracy: 0.6024\n",
            "Epoch 15/200\n",
            "448/448 [==============================] - 12s 26ms/step - loss: 1.0065 - accuracy: 0.6213 - val_loss: 1.1017 - val_accuracy: 0.5812\n",
            "Epoch 16/200\n",
            "448/448 [==============================] - 12s 26ms/step - loss: 0.9908 - accuracy: 0.6283 - val_loss: 1.0476 - val_accuracy: 0.6082\n",
            "Epoch 17/200\n",
            "448/448 [==============================] - 12s 26ms/step - loss: 0.9801 - accuracy: 0.6329 - val_loss: 1.0502 - val_accuracy: 0.6102\n",
            "Epoch 18/200\n",
            "448/448 [==============================] - 12s 26ms/step - loss: 0.9720 - accuracy: 0.6368 - val_loss: 1.0948 - val_accuracy: 0.5910\n",
            "Epoch 19/200\n",
            "448/448 [==============================] - 12s 26ms/step - loss: 0.9608 - accuracy: 0.6403 - val_loss: 1.0660 - val_accuracy: 0.6057\n",
            "Epoch 20/200\n",
            "448/448 [==============================] - 12s 26ms/step - loss: 0.9519 - accuracy: 0.6454 - val_loss: 1.0603 - val_accuracy: 0.5949\n",
            "Epoch 21/200\n",
            "448/448 [==============================] - 12s 26ms/step - loss: 0.9379 - accuracy: 0.6498 - val_loss: 1.0367 - val_accuracy: 0.6060\n",
            "Epoch 22/200\n",
            "448/448 [==============================] - 12s 26ms/step - loss: 0.9316 - accuracy: 0.6481 - val_loss: 1.0520 - val_accuracy: 0.6155\n",
            "Epoch 23/200\n",
            "448/448 [==============================] - 12s 26ms/step - loss: 0.9249 - accuracy: 0.6522 - val_loss: 1.0603 - val_accuracy: 0.5979\n",
            "Epoch 24/200\n",
            "448/448 [==============================] - 12s 26ms/step - loss: 0.9130 - accuracy: 0.6585 - val_loss: 1.0770 - val_accuracy: 0.6038\n",
            "Epoch 25/200\n",
            "448/448 [==============================] - 12s 26ms/step - loss: 0.9030 - accuracy: 0.6621 - val_loss: 1.0513 - val_accuracy: 0.6127\n",
            "Epoch 26/200\n",
            "448/448 [==============================] - 12s 26ms/step - loss: 0.9010 - accuracy: 0.6640 - val_loss: 1.0469 - val_accuracy: 0.6133\n",
            "Epoch 27/200\n",
            "448/448 [==============================] - 12s 26ms/step - loss: 0.8890 - accuracy: 0.6656 - val_loss: 1.0270 - val_accuracy: 0.6180\n",
            "Epoch 28/200\n",
            "448/448 [==============================] - 12s 26ms/step - loss: 0.8884 - accuracy: 0.6691 - val_loss: 1.0213 - val_accuracy: 0.6239\n",
            "Epoch 29/200\n",
            "448/448 [==============================] - 11s 26ms/step - loss: 0.8746 - accuracy: 0.6768 - val_loss: 1.0550 - val_accuracy: 0.6188\n",
            "Epoch 30/200\n",
            "448/448 [==============================] - 12s 26ms/step - loss: 0.8666 - accuracy: 0.6771 - val_loss: 1.0338 - val_accuracy: 0.6213\n",
            "Epoch 31/200\n",
            "448/448 [==============================] - 12s 26ms/step - loss: 0.8624 - accuracy: 0.6773 - val_loss: 1.0291 - val_accuracy: 0.6289\n",
            "Epoch 32/200\n",
            "448/448 [==============================] - 12s 27ms/step - loss: 0.8558 - accuracy: 0.6846 - val_loss: 1.0444 - val_accuracy: 0.6241\n",
            "Epoch 33/200\n",
            "448/448 [==============================] - 12s 27ms/step - loss: 0.8455 - accuracy: 0.6873 - val_loss: 1.0306 - val_accuracy: 0.6297\n",
            "Epoch 34/200\n",
            "448/448 [==============================] - 12s 27ms/step - loss: 0.8365 - accuracy: 0.6874 - val_loss: 1.0915 - val_accuracy: 0.5971\n",
            "Epoch 35/200\n",
            "448/448 [==============================] - 12s 26ms/step - loss: 0.8258 - accuracy: 0.6944 - val_loss: 1.0275 - val_accuracy: 0.6294\n",
            "Epoch 36/200\n",
            "448/448 [==============================] - 12s 26ms/step - loss: 0.8191 - accuracy: 0.6964 - val_loss: 1.0410 - val_accuracy: 0.6269\n",
            "Epoch 37/200\n",
            "448/448 [==============================] - 12s 26ms/step - loss: 0.8176 - accuracy: 0.6931 - val_loss: 1.0106 - val_accuracy: 0.6378\n",
            "Epoch 38/200\n",
            "448/448 [==============================] - 12s 26ms/step - loss: 0.8076 - accuracy: 0.7009 - val_loss: 1.0308 - val_accuracy: 0.6233\n",
            "Epoch 39/200\n",
            "448/448 [==============================] - 12s 26ms/step - loss: 0.8057 - accuracy: 0.7017 - val_loss: 1.0394 - val_accuracy: 0.6213\n",
            "Epoch 40/200\n",
            "448/448 [==============================] - 12s 26ms/step - loss: 0.7937 - accuracy: 0.7053 - val_loss: 1.0630 - val_accuracy: 0.6205\n",
            "Epoch 41/200\n",
            "448/448 [==============================] - 12s 26ms/step - loss: 0.7797 - accuracy: 0.7085 - val_loss: 1.0514 - val_accuracy: 0.6252\n",
            "Epoch 42/200\n",
            "448/448 [==============================] - 12s 26ms/step - loss: 0.7774 - accuracy: 0.7146 - val_loss: 1.0551 - val_accuracy: 0.6364\n",
            "Epoch 43/200\n",
            "448/448 [==============================] - 11s 25ms/step - loss: 0.7739 - accuracy: 0.7159 - val_loss: 1.0584 - val_accuracy: 0.6219\n",
            "Epoch 44/200\n",
            "448/448 [==============================] - 12s 26ms/step - loss: 0.7708 - accuracy: 0.7176 - val_loss: 1.0140 - val_accuracy: 0.6439\n",
            "Epoch 45/200\n",
            "448/448 [==============================] - 12s 26ms/step - loss: 0.7599 - accuracy: 0.7173 - val_loss: 1.0395 - val_accuracy: 0.6356\n",
            "Epoch 46/200\n",
            "448/448 [==============================] - 12s 26ms/step - loss: 0.7520 - accuracy: 0.7254 - val_loss: 1.0609 - val_accuracy: 0.6294\n",
            "Epoch 47/200\n",
            "448/448 [==============================] - 12s 26ms/step - loss: 0.7484 - accuracy: 0.7237 - val_loss: 1.0949 - val_accuracy: 0.6138\n",
            "Epoch 48/200\n",
            "448/448 [==============================] - 12s 26ms/step - loss: 0.7448 - accuracy: 0.7252 - val_loss: 1.0657 - val_accuracy: 0.6311\n",
            "Epoch 49/200\n",
            "448/448 [==============================] - 12s 26ms/step - loss: 0.7284 - accuracy: 0.7315 - val_loss: 1.0488 - val_accuracy: 0.6367\n",
            "Epoch 50/200\n",
            "448/448 [==============================] - 12s 26ms/step - loss: 0.7211 - accuracy: 0.7349 - val_loss: 1.0457 - val_accuracy: 0.6383\n",
            "Epoch 51/200\n",
            "448/448 [==============================] - 12s 26ms/step - loss: 0.7196 - accuracy: 0.7346 - val_loss: 1.0622 - val_accuracy: 0.6344\n",
            "Epoch 52/200\n",
            "448/448 [==============================] - 12s 27ms/step - loss: 0.7095 - accuracy: 0.7400 - val_loss: 1.0463 - val_accuracy: 0.6305\n",
            "Epoch 53/200\n",
            "448/448 [==============================] - 12s 26ms/step - loss: 0.7100 - accuracy: 0.7395 - val_loss: 1.0472 - val_accuracy: 0.6356\n",
            "Epoch 54/200\n",
            "448/448 [==============================] - 12s 26ms/step - loss: 0.7014 - accuracy: 0.7427 - val_loss: 1.0668 - val_accuracy: 0.6367\n",
            "Epoch 55/200\n",
            "448/448 [==============================] - 12s 26ms/step - loss: 0.6904 - accuracy: 0.7458 - val_loss: 1.0531 - val_accuracy: 0.6403\n",
            "Epoch 56/200\n",
            "448/448 [==============================] - 12s 26ms/step - loss: 0.6846 - accuracy: 0.7504 - val_loss: 1.0856 - val_accuracy: 0.6347\n",
            "Epoch 57/200\n",
            "448/448 [==============================] - 12s 26ms/step - loss: 0.6818 - accuracy: 0.7509 - val_loss: 1.0771 - val_accuracy: 0.6230\n",
            "Epoch 58/200\n",
            "448/448 [==============================] - 12s 26ms/step - loss: 0.6705 - accuracy: 0.7526 - val_loss: 1.0481 - val_accuracy: 0.6386\n",
            "Epoch 59/200\n",
            "448/448 [==============================] - 12s 26ms/step - loss: 0.6692 - accuracy: 0.7559 - val_loss: 1.0521 - val_accuracy: 0.6395\n",
            "Epoch 60/200\n",
            "448/448 [==============================] - 12s 26ms/step - loss: 0.6603 - accuracy: 0.7562 - val_loss: 1.0969 - val_accuracy: 0.6264\n",
            "Epoch 61/200\n",
            "448/448 [==============================] - 12s 26ms/step - loss: 0.6619 - accuracy: 0.7545 - val_loss: 1.0761 - val_accuracy: 0.6347\n",
            "Epoch 62/200\n",
            "448/448 [==============================] - 12s 26ms/step - loss: 0.6521 - accuracy: 0.7629 - val_loss: 1.0832 - val_accuracy: 0.6381\n",
            "Epoch 63/200\n",
            "448/448 [==============================] - 12s 26ms/step - loss: 0.6520 - accuracy: 0.7623 - val_loss: 1.0876 - val_accuracy: 0.6342\n",
            "Epoch 64/200\n",
            "448/448 [==============================] - 12s 26ms/step - loss: 0.6436 - accuracy: 0.7638 - val_loss: 1.0924 - val_accuracy: 0.6311\n",
            "Epoch 65/200\n",
            "448/448 [==============================] - 12s 27ms/step - loss: 0.6286 - accuracy: 0.7686 - val_loss: 1.0915 - val_accuracy: 0.6356\n",
            "Epoch 66/200\n",
            "448/448 [==============================] - 12s 26ms/step - loss: 0.6279 - accuracy: 0.7723 - val_loss: 1.1179 - val_accuracy: 0.6336\n",
            "Epoch 67/200\n",
            "448/448 [==============================] - 12s 26ms/step - loss: 0.6209 - accuracy: 0.7719 - val_loss: 1.0928 - val_accuracy: 0.6350\n",
            "Epoch 68/200\n",
            "448/448 [==============================] - 12s 26ms/step - loss: 0.6180 - accuracy: 0.7725 - val_loss: 1.0770 - val_accuracy: 0.6422\n",
            "Epoch 69/200\n",
            "448/448 [==============================] - 12s 27ms/step - loss: 0.6111 - accuracy: 0.7767 - val_loss: 1.1554 - val_accuracy: 0.6314\n",
            "Epoch 70/200\n",
            "448/448 [==============================] - 12s 26ms/step - loss: 0.6084 - accuracy: 0.7798 - val_loss: 1.0921 - val_accuracy: 0.6431\n",
            "Epoch 71/200\n",
            "448/448 [==============================] - 12s 26ms/step - loss: 0.6035 - accuracy: 0.7806 - val_loss: 1.1098 - val_accuracy: 0.6442\n",
            "Epoch 72/200\n",
            "448/448 [==============================] - 12s 26ms/step - loss: 0.6010 - accuracy: 0.7804 - val_loss: 1.1017 - val_accuracy: 0.6489\n",
            "Epoch 73/200\n",
            "448/448 [==============================] - 12s 26ms/step - loss: 0.5977 - accuracy: 0.7803 - val_loss: 1.0830 - val_accuracy: 0.6425\n",
            "Epoch 74/200\n",
            "448/448 [==============================] - 12s 26ms/step - loss: 0.5906 - accuracy: 0.7808 - val_loss: 1.1229 - val_accuracy: 0.6317\n",
            "Epoch 75/200\n",
            "448/448 [==============================] - 12s 26ms/step - loss: 0.5850 - accuracy: 0.7869 - val_loss: 1.1200 - val_accuracy: 0.6450\n",
            "Epoch 76/200\n",
            "448/448 [==============================] - 11s 25ms/step - loss: 0.5832 - accuracy: 0.7872 - val_loss: 1.1446 - val_accuracy: 0.6300\n",
            "Epoch 77/200\n",
            "448/448 [==============================] - 12s 26ms/step - loss: 0.5697 - accuracy: 0.7924 - val_loss: 1.1118 - val_accuracy: 0.6372\n",
            "Epoch 78/200\n",
            "448/448 [==============================] - 12s 26ms/step - loss: 0.5666 - accuracy: 0.7944 - val_loss: 1.1313 - val_accuracy: 0.6445\n",
            "Epoch 79/200\n",
            "448/448 [==============================] - 12s 26ms/step - loss: 0.5616 - accuracy: 0.7972 - val_loss: 1.1271 - val_accuracy: 0.6445\n",
            "Epoch 80/200\n",
            "448/448 [==============================] - 12s 26ms/step - loss: 0.5605 - accuracy: 0.7967 - val_loss: 1.1531 - val_accuracy: 0.6436\n",
            "Epoch 81/200\n",
            "448/448 [==============================] - 12s 26ms/step - loss: 0.5599 - accuracy: 0.7959 - val_loss: 1.1641 - val_accuracy: 0.6330\n",
            "Epoch 82/200\n",
            "448/448 [==============================] - 12s 26ms/step - loss: 0.5433 - accuracy: 0.8009 - val_loss: 1.1320 - val_accuracy: 0.6383\n",
            "Epoch 83/200\n",
            "448/448 [==============================] - 12s 26ms/step - loss: 0.5425 - accuracy: 0.8024 - val_loss: 1.1412 - val_accuracy: 0.6486\n",
            "Epoch 84/200\n",
            "448/448 [==============================] - 12s 26ms/step - loss: 0.5410 - accuracy: 0.8022 - val_loss: 1.2342 - val_accuracy: 0.6060\n",
            "Epoch 85/200\n",
            "448/448 [==============================] - 12s 26ms/step - loss: 0.5384 - accuracy: 0.8039 - val_loss: 1.1739 - val_accuracy: 0.6367\n",
            "Epoch 86/200\n",
            "448/448 [==============================] - 12s 27ms/step - loss: 0.5251 - accuracy: 0.8093 - val_loss: 1.1470 - val_accuracy: 0.6420\n",
            "Epoch 87/200\n",
            "448/448 [==============================] - 12s 26ms/step - loss: 0.5260 - accuracy: 0.8093 - val_loss: 1.1869 - val_accuracy: 0.6319\n",
            "Epoch 88/200\n",
            "448/448 [==============================] - 12s 26ms/step - loss: 0.5255 - accuracy: 0.8078 - val_loss: 1.1631 - val_accuracy: 0.6439\n",
            "Epoch 89/200\n",
            "448/448 [==============================] - 12s 26ms/step - loss: 0.5242 - accuracy: 0.8101 - val_loss: 1.1695 - val_accuracy: 0.6417\n",
            "Epoch 90/200\n",
            "448/448 [==============================] - 12s 27ms/step - loss: 0.5141 - accuracy: 0.8155 - val_loss: 1.1393 - val_accuracy: 0.6453\n",
            "Epoch 91/200\n",
            "448/448 [==============================] - 11s 26ms/step - loss: 0.5161 - accuracy: 0.8124 - val_loss: 1.1573 - val_accuracy: 0.6498\n",
            "Epoch 92/200\n",
            "448/448 [==============================] - 12s 26ms/step - loss: 0.5067 - accuracy: 0.8180 - val_loss: 1.1665 - val_accuracy: 0.6470\n",
            "Epoch 93/200\n",
            "448/448 [==============================] - 12s 26ms/step - loss: 0.5054 - accuracy: 0.8154 - val_loss: 1.1499 - val_accuracy: 0.6470\n",
            "Epoch 94/200\n",
            "448/448 [==============================] - 12s 26ms/step - loss: 0.5039 - accuracy: 0.8172 - val_loss: 1.2032 - val_accuracy: 0.6286\n",
            "Epoch 95/200\n",
            "448/448 [==============================] - 12s 27ms/step - loss: 0.4933 - accuracy: 0.8229 - val_loss: 1.2013 - val_accuracy: 0.6381\n",
            "Epoch 96/200\n",
            "448/448 [==============================] - 12s 26ms/step - loss: 0.4865 - accuracy: 0.8220 - val_loss: 1.1669 - val_accuracy: 0.6473\n",
            "Epoch 97/200\n",
            "448/448 [==============================] - 12s 26ms/step - loss: 0.4821 - accuracy: 0.8251 - val_loss: 1.1793 - val_accuracy: 0.6503\n",
            "Epoch 98/200\n",
            "448/448 [==============================] - 12s 26ms/step - loss: 0.4860 - accuracy: 0.8256 - val_loss: 1.2277 - val_accuracy: 0.6356\n",
            "Epoch 99/200\n",
            "448/448 [==============================] - 12s 26ms/step - loss: 0.4801 - accuracy: 0.8240 - val_loss: 1.2061 - val_accuracy: 0.6400\n",
            "Epoch 100/200\n",
            "448/448 [==============================] - 12s 26ms/step - loss: 0.4728 - accuracy: 0.8315 - val_loss: 1.1886 - val_accuracy: 0.6447\n",
            "Epoch 101/200\n",
            "448/448 [==============================] - 12s 26ms/step - loss: 0.4726 - accuracy: 0.8307 - val_loss: 1.1644 - val_accuracy: 0.6506\n",
            "Epoch 102/200\n",
            "448/448 [==============================] - 12s 26ms/step - loss: 0.4699 - accuracy: 0.8287 - val_loss: 1.1914 - val_accuracy: 0.6556\n",
            "Epoch 103/200\n",
            "448/448 [==============================] - 12s 27ms/step - loss: 0.4611 - accuracy: 0.8346 - val_loss: 1.2160 - val_accuracy: 0.6372\n",
            "Epoch 104/200\n",
            "448/448 [==============================] - 12s 26ms/step - loss: 0.4595 - accuracy: 0.8353 - val_loss: 1.2312 - val_accuracy: 0.6358\n",
            "Epoch 105/200\n",
            "448/448 [==============================] - 12s 26ms/step - loss: 0.4641 - accuracy: 0.8332 - val_loss: 1.2272 - val_accuracy: 0.6389\n",
            "Epoch 106/200\n",
            "448/448 [==============================] - 12s 26ms/step - loss: 0.4541 - accuracy: 0.8371 - val_loss: 1.2202 - val_accuracy: 0.6459\n",
            "Epoch 107/200\n",
            "448/448 [==============================] - 12s 26ms/step - loss: 0.4473 - accuracy: 0.8381 - val_loss: 1.2421 - val_accuracy: 0.6459\n",
            "Epoch 108/200\n",
            "448/448 [==============================] - 12s 26ms/step - loss: 0.4514 - accuracy: 0.8398 - val_loss: 1.2662 - val_accuracy: 0.6361\n",
            "Epoch 109/200\n",
            "448/448 [==============================] - 12s 26ms/step - loss: 0.4460 - accuracy: 0.8407 - val_loss: 1.2345 - val_accuracy: 0.6436\n",
            "Epoch 110/200\n",
            "448/448 [==============================] - 12s 26ms/step - loss: 0.4408 - accuracy: 0.8399 - val_loss: 1.2543 - val_accuracy: 0.6445\n",
            "Epoch 111/200\n",
            "448/448 [==============================] - 12s 26ms/step - loss: 0.4356 - accuracy: 0.8425 - val_loss: 1.2408 - val_accuracy: 0.6400\n",
            "Epoch 112/200\n",
            "448/448 [==============================] - 12s 26ms/step - loss: 0.4376 - accuracy: 0.8423 - val_loss: 1.2476 - val_accuracy: 0.6383\n",
            "Epoch 113/200\n",
            "448/448 [==============================] - 12s 26ms/step - loss: 0.4280 - accuracy: 0.8444 - val_loss: 1.2544 - val_accuracy: 0.6361\n",
            "Epoch 114/200\n",
            "448/448 [==============================] - 12s 26ms/step - loss: 0.4268 - accuracy: 0.8476 - val_loss: 1.2254 - val_accuracy: 0.6442\n",
            "Epoch 115/200\n",
            "448/448 [==============================] - 12s 27ms/step - loss: 0.4251 - accuracy: 0.8462 - val_loss: 1.2858 - val_accuracy: 0.6333\n",
            "Epoch 116/200\n",
            "448/448 [==============================] - 12s 26ms/step - loss: 0.4233 - accuracy: 0.8477 - val_loss: 1.2467 - val_accuracy: 0.6411\n",
            "Epoch 117/200\n",
            "448/448 [==============================] - 12s 26ms/step - loss: 0.4145 - accuracy: 0.8487 - val_loss: 1.2422 - val_accuracy: 0.6478\n",
            "Epoch 118/200\n",
            "448/448 [==============================] - 12s 26ms/step - loss: 0.4228 - accuracy: 0.8497 - val_loss: 1.2737 - val_accuracy: 0.6484\n",
            "Epoch 119/200\n",
            "448/448 [==============================] - 12s 26ms/step - loss: 0.4089 - accuracy: 0.8535 - val_loss: 1.3319 - val_accuracy: 0.6314\n",
            "Epoch 120/200\n",
            "448/448 [==============================] - 12s 26ms/step - loss: 0.4126 - accuracy: 0.8514 - val_loss: 1.2552 - val_accuracy: 0.6392\n",
            "Epoch 121/200\n",
            "448/448 [==============================] - 12s 27ms/step - loss: 0.4077 - accuracy: 0.8506 - val_loss: 1.3525 - val_accuracy: 0.6247\n",
            "Epoch 122/200\n",
            "448/448 [==============================] - 12s 26ms/step - loss: 0.4021 - accuracy: 0.8538 - val_loss: 1.2643 - val_accuracy: 0.6473\n",
            "Epoch 123/200\n",
            "448/448 [==============================] - 12s 27ms/step - loss: 0.4011 - accuracy: 0.8567 - val_loss: 1.3082 - val_accuracy: 0.6425\n",
            "Epoch 124/200\n",
            "448/448 [==============================] - 12s 26ms/step - loss: 0.3949 - accuracy: 0.8588 - val_loss: 1.3154 - val_accuracy: 0.6297\n",
            "Epoch 125/200\n",
            "448/448 [==============================] - 12s 26ms/step - loss: 0.3968 - accuracy: 0.8567 - val_loss: 1.3148 - val_accuracy: 0.6339\n",
            "Epoch 126/200\n",
            "448/448 [==============================] - 12s 26ms/step - loss: 0.4006 - accuracy: 0.8569 - val_loss: 1.3476 - val_accuracy: 0.6400\n",
            "Epoch 127/200\n",
            "448/448 [==============================] - 12s 26ms/step - loss: 0.3901 - accuracy: 0.8608 - val_loss: 1.3226 - val_accuracy: 0.6498\n",
            "Epoch 128/200\n",
            "448/448 [==============================] - 12s 26ms/step - loss: 0.3872 - accuracy: 0.8586 - val_loss: 1.3136 - val_accuracy: 0.6383\n",
            "Epoch 129/200\n",
            "448/448 [==============================] - 12s 26ms/step - loss: 0.3832 - accuracy: 0.8631 - val_loss: 1.2951 - val_accuracy: 0.6486\n",
            "Epoch 130/200\n",
            "448/448 [==============================] - 11s 26ms/step - loss: 0.3786 - accuracy: 0.8668 - val_loss: 1.3584 - val_accuracy: 0.6303\n",
            "Epoch 131/200\n",
            "448/448 [==============================] - 12s 26ms/step - loss: 0.3758 - accuracy: 0.8660 - val_loss: 1.3322 - val_accuracy: 0.6422\n",
            "Epoch 132/200\n",
            "448/448 [==============================] - 12s 26ms/step - loss: 0.3817 - accuracy: 0.8660 - val_loss: 1.3415 - val_accuracy: 0.6356\n",
            "Epoch 133/200\n",
            "448/448 [==============================] - 12s 26ms/step - loss: 0.3775 - accuracy: 0.8656 - val_loss: 1.3515 - val_accuracy: 0.6450\n",
            "Epoch 134/200\n",
            "448/448 [==============================] - 12s 26ms/step - loss: 0.3723 - accuracy: 0.8665 - val_loss: 1.3280 - val_accuracy: 0.6420\n",
            "Epoch 135/200\n",
            "448/448 [==============================] - 12s 26ms/step - loss: 0.3659 - accuracy: 0.8673 - val_loss: 1.3607 - val_accuracy: 0.6350\n",
            "Epoch 136/200\n",
            "448/448 [==============================] - 12s 26ms/step - loss: 0.3635 - accuracy: 0.8708 - val_loss: 1.3473 - val_accuracy: 0.6436\n",
            "Epoch 137/200\n",
            "448/448 [==============================] - 12s 26ms/step - loss: 0.3643 - accuracy: 0.8677 - val_loss: 1.3608 - val_accuracy: 0.6411\n",
            "Epoch 138/200\n",
            "448/448 [==============================] - 12s 26ms/step - loss: 0.3665 - accuracy: 0.8688 - val_loss: 1.4190 - val_accuracy: 0.6367\n",
            "Epoch 139/200\n",
            "448/448 [==============================] - 12s 26ms/step - loss: 0.3646 - accuracy: 0.8691 - val_loss: 1.3818 - val_accuracy: 0.6408\n",
            "Epoch 140/200\n",
            "448/448 [==============================] - 12s 26ms/step - loss: 0.3597 - accuracy: 0.8705 - val_loss: 1.3539 - val_accuracy: 0.6506\n",
            "Epoch 141/200\n",
            "448/448 [==============================] - 12s 26ms/step - loss: 0.3519 - accuracy: 0.8732 - val_loss: 1.3724 - val_accuracy: 0.6436\n",
            "Epoch 142/200\n",
            "448/448 [==============================] - 12s 26ms/step - loss: 0.3510 - accuracy: 0.8742 - val_loss: 1.3768 - val_accuracy: 0.6542\n",
            "Epoch 143/200\n",
            "448/448 [==============================] - 12s 26ms/step - loss: 0.3491 - accuracy: 0.8774 - val_loss: 1.3635 - val_accuracy: 0.6475\n",
            "Epoch 144/200\n",
            "448/448 [==============================] - 12s 27ms/step - loss: 0.3483 - accuracy: 0.8740 - val_loss: 1.3373 - val_accuracy: 0.6475\n",
            "Epoch 145/200\n",
            "448/448 [==============================] - 12s 26ms/step - loss: 0.3421 - accuracy: 0.8793 - val_loss: 1.4385 - val_accuracy: 0.6411\n",
            "Epoch 146/200\n",
            "448/448 [==============================] - 12s 26ms/step - loss: 0.3504 - accuracy: 0.8758 - val_loss: 1.3966 - val_accuracy: 0.6428\n",
            "Epoch 147/200\n",
            "448/448 [==============================] - 12s 27ms/step - loss: 0.3441 - accuracy: 0.8764 - val_loss: 1.3929 - val_accuracy: 0.6428\n",
            "Epoch 148/200\n",
            "448/448 [==============================] - 12s 26ms/step - loss: 0.3406 - accuracy: 0.8768 - val_loss: 1.4264 - val_accuracy: 0.6305\n",
            "Epoch 149/200\n",
            "448/448 [==============================] - 12s 27ms/step - loss: 0.3351 - accuracy: 0.8805 - val_loss: 1.3725 - val_accuracy: 0.6500\n",
            "Epoch 150/200\n",
            "448/448 [==============================] - 12s 26ms/step - loss: 0.3429 - accuracy: 0.8762 - val_loss: 1.3735 - val_accuracy: 0.6492\n",
            "Epoch 151/200\n",
            "448/448 [==============================] - 12s 26ms/step - loss: 0.3312 - accuracy: 0.8829 - val_loss: 1.4184 - val_accuracy: 0.6467\n",
            "Epoch 152/200\n",
            "448/448 [==============================] - 12s 26ms/step - loss: 0.3336 - accuracy: 0.8794 - val_loss: 1.4076 - val_accuracy: 0.6431\n",
            "Epoch 153/200\n",
            "448/448 [==============================] - 12s 26ms/step - loss: 0.3345 - accuracy: 0.8810 - val_loss: 1.5558 - val_accuracy: 0.6041\n",
            "Epoch 154/200\n",
            "448/448 [==============================] - 12s 27ms/step - loss: 0.3264 - accuracy: 0.8835 - val_loss: 1.4390 - val_accuracy: 0.6347\n",
            "Epoch 155/200\n",
            "448/448 [==============================] - 12s 26ms/step - loss: 0.3261 - accuracy: 0.8812 - val_loss: 1.4541 - val_accuracy: 0.6353\n",
            "Epoch 156/200\n",
            "448/448 [==============================] - 12s 26ms/step - loss: 0.3285 - accuracy: 0.8821 - val_loss: 1.3994 - val_accuracy: 0.6456\n",
            "Epoch 157/200\n",
            "448/448 [==============================] - 12s 26ms/step - loss: 0.3181 - accuracy: 0.8857 - val_loss: 1.4729 - val_accuracy: 0.6241\n",
            "Epoch 158/200\n",
            "448/448 [==============================] - 12s 26ms/step - loss: 0.3247 - accuracy: 0.8836 - val_loss: 1.4302 - val_accuracy: 0.6406\n",
            "Epoch 159/200\n",
            "448/448 [==============================] - 11s 26ms/step - loss: 0.3242 - accuracy: 0.8837 - val_loss: 1.3723 - val_accuracy: 0.6475\n",
            "Epoch 160/200\n",
            "448/448 [==============================] - 12s 26ms/step - loss: 0.3149 - accuracy: 0.8868 - val_loss: 1.4738 - val_accuracy: 0.6367\n",
            "Epoch 161/200\n",
            "448/448 [==============================] - 12s 26ms/step - loss: 0.3106 - accuracy: 0.8893 - val_loss: 1.4073 - val_accuracy: 0.6447\n",
            "Epoch 162/200\n",
            "448/448 [==============================] - 12s 27ms/step - loss: 0.3177 - accuracy: 0.8867 - val_loss: 1.4639 - val_accuracy: 0.6420\n",
            "Epoch 163/200\n",
            "448/448 [==============================] - 12s 27ms/step - loss: 0.3090 - accuracy: 0.8892 - val_loss: 1.4438 - val_accuracy: 0.6434\n",
            "Epoch 164/200\n",
            "448/448 [==============================] - 12s 26ms/step - loss: 0.3076 - accuracy: 0.8897 - val_loss: 1.4762 - val_accuracy: 0.6367\n",
            "Epoch 165/200\n",
            "448/448 [==============================] - 12s 26ms/step - loss: 0.3093 - accuracy: 0.8892 - val_loss: 1.4618 - val_accuracy: 0.6408\n",
            "Epoch 166/200\n",
            "448/448 [==============================] - 12s 26ms/step - loss: 0.3205 - accuracy: 0.8859 - val_loss: 1.4516 - val_accuracy: 0.6464\n",
            "Epoch 167/200\n",
            "448/448 [==============================] - 12s 27ms/step - loss: 0.3048 - accuracy: 0.8910 - val_loss: 1.4355 - val_accuracy: 0.6442\n",
            "Epoch 168/200\n",
            "448/448 [==============================] - 12s 27ms/step - loss: 0.3024 - accuracy: 0.8918 - val_loss: 1.4302 - val_accuracy: 0.6531\n",
            "Epoch 169/200\n",
            "448/448 [==============================] - 12s 26ms/step - loss: 0.3033 - accuracy: 0.8925 - val_loss: 1.4456 - val_accuracy: 0.6534\n",
            "Epoch 170/200\n",
            "448/448 [==============================] - 12s 26ms/step - loss: 0.3024 - accuracy: 0.8918 - val_loss: 1.4441 - val_accuracy: 0.6484\n",
            "Epoch 171/200\n",
            "448/448 [==============================] - 12s 27ms/step - loss: 0.3021 - accuracy: 0.8907 - val_loss: 1.4593 - val_accuracy: 0.6567\n",
            "Epoch 172/200\n",
            "448/448 [==============================] - 12s 26ms/step - loss: 0.2994 - accuracy: 0.8915 - val_loss: 1.4583 - val_accuracy: 0.6537\n",
            "Epoch 173/200\n",
            "448/448 [==============================] - 12s 26ms/step - loss: 0.2981 - accuracy: 0.8928 - val_loss: 1.4838 - val_accuracy: 0.6453\n",
            "Epoch 174/200\n",
            "448/448 [==============================] - 12s 26ms/step - loss: 0.2930 - accuracy: 0.8966 - val_loss: 1.5344 - val_accuracy: 0.6317\n",
            "Epoch 175/200\n",
            "448/448 [==============================] - 12s 26ms/step - loss: 0.2884 - accuracy: 0.8969 - val_loss: 1.4668 - val_accuracy: 0.6436\n",
            "Epoch 176/200\n",
            "448/448 [==============================] - 12s 27ms/step - loss: 0.2969 - accuracy: 0.8936 - val_loss: 1.4480 - val_accuracy: 0.6506\n",
            "Epoch 177/200\n",
            "448/448 [==============================] - 12s 26ms/step - loss: 0.2836 - accuracy: 0.8985 - val_loss: 1.4869 - val_accuracy: 0.6464\n",
            "Epoch 178/200\n",
            "448/448 [==============================] - 12s 26ms/step - loss: 0.2920 - accuracy: 0.8951 - val_loss: 1.4820 - val_accuracy: 0.6492\n",
            "Epoch 179/200\n",
            "448/448 [==============================] - 12s 26ms/step - loss: 0.2843 - accuracy: 0.8965 - val_loss: 1.4735 - val_accuracy: 0.6414\n",
            "Epoch 180/200\n",
            "448/448 [==============================] - 12s 27ms/step - loss: 0.2840 - accuracy: 0.8957 - val_loss: 1.5065 - val_accuracy: 0.6447\n",
            "Epoch 181/200\n",
            "448/448 [==============================] - 12s 26ms/step - loss: 0.2796 - accuracy: 0.9003 - val_loss: 1.4806 - val_accuracy: 0.6576\n",
            "Epoch 182/200\n",
            "448/448 [==============================] - 12s 26ms/step - loss: 0.2780 - accuracy: 0.9013 - val_loss: 1.5348 - val_accuracy: 0.6367\n",
            "Epoch 183/200\n",
            "448/448 [==============================] - 12s 27ms/step - loss: 0.2766 - accuracy: 0.9014 - val_loss: 1.5504 - val_accuracy: 0.6361\n",
            "Epoch 184/200\n",
            "448/448 [==============================] - 12s 27ms/step - loss: 0.2843 - accuracy: 0.8988 - val_loss: 1.5028 - val_accuracy: 0.6495\n",
            "Epoch 185/200\n",
            "448/448 [==============================] - 12s 27ms/step - loss: 0.2764 - accuracy: 0.9017 - val_loss: 1.4864 - val_accuracy: 0.6576\n",
            "Epoch 186/200\n",
            "448/448 [==============================] - 12s 26ms/step - loss: 0.2810 - accuracy: 0.9020 - val_loss: 1.5159 - val_accuracy: 0.6453\n",
            "Epoch 187/200\n",
            "448/448 [==============================] - 12s 26ms/step - loss: 0.2780 - accuracy: 0.8991 - val_loss: 1.5980 - val_accuracy: 0.6303\n",
            "Epoch 188/200\n",
            "448/448 [==============================] - 12s 27ms/step - loss: 0.2729 - accuracy: 0.9025 - val_loss: 1.5386 - val_accuracy: 0.6431\n",
            "Epoch 189/200\n",
            "448/448 [==============================] - 12s 26ms/step - loss: 0.2690 - accuracy: 0.9045 - val_loss: 1.5991 - val_accuracy: 0.6297\n",
            "Epoch 190/200\n",
            "448/448 [==============================] - 12s 27ms/step - loss: 0.2723 - accuracy: 0.9022 - val_loss: 1.5675 - val_accuracy: 0.6397\n",
            "Epoch 191/200\n",
            "448/448 [==============================] - 12s 26ms/step - loss: 0.2690 - accuracy: 0.9035 - val_loss: 1.5194 - val_accuracy: 0.6553\n",
            "Epoch 192/200\n",
            "448/448 [==============================] - 12s 26ms/step - loss: 0.2664 - accuracy: 0.9042 - val_loss: 1.5809 - val_accuracy: 0.6445\n",
            "Epoch 193/200\n",
            "448/448 [==============================] - 12s 26ms/step - loss: 0.2655 - accuracy: 0.9064 - val_loss: 1.5626 - val_accuracy: 0.6425\n",
            "Epoch 194/200\n",
            "448/448 [==============================] - 12s 27ms/step - loss: 0.2648 - accuracy: 0.9058 - val_loss: 1.5549 - val_accuracy: 0.6408\n",
            "Epoch 195/200\n",
            "448/448 [==============================] - 12s 26ms/step - loss: 0.2649 - accuracy: 0.9066 - val_loss: 1.5679 - val_accuracy: 0.6486\n",
            "Epoch 196/200\n",
            "448/448 [==============================] - 12s 27ms/step - loss: 0.2672 - accuracy: 0.9033 - val_loss: 1.5602 - val_accuracy: 0.6500\n",
            "Epoch 197/200\n",
            "448/448 [==============================] - 12s 27ms/step - loss: 0.2612 - accuracy: 0.9056 - val_loss: 1.5317 - val_accuracy: 0.6531\n",
            "Epoch 198/200\n",
            "448/448 [==============================] - 12s 27ms/step - loss: 0.2616 - accuracy: 0.9061 - val_loss: 1.6445 - val_accuracy: 0.6311\n",
            "Epoch 199/200\n",
            "448/448 [==============================] - 13s 29ms/step - loss: 0.2631 - accuracy: 0.9083 - val_loss: 1.5748 - val_accuracy: 0.6459\n",
            "Epoch 200/200\n",
            "448/448 [==============================] - 13s 29ms/step - loss: 0.2605 - accuracy: 0.9073 - val_loss: 1.5443 - val_accuracy: 0.6475\n"
          ]
        }
      ]
    },
    {
      "cell_type": "code",
      "source": [
        "model_json = model.to_json()\n",
        "with open(\"model.json\", \"w\") as json_file:\n",
        "    json_file.write(model_json)\n",
        "model.save_weights(\"model.h5\")\n",
        "print(\"Saved model to disk\")"
      ],
      "metadata": {
        "colab": {
          "base_uri": "https://localhost:8080/"
        },
        "id": "dLAf5-yhYt8N",
        "outputId": "f7558a1e-9e85-46fa-e43e-9e5889f9e255"
      },
      "execution_count": 18,
      "outputs": [
        {
          "output_type": "stream",
          "name": "stdout",
          "text": [
            "Saved model to disk\n"
          ]
        }
      ]
    },
    {
      "cell_type": "code",
      "source": [
        "from tensorflow.keras.models import model_from_json\n",
        "model = model_from_json(open(\"/content/model.json\", \"r\").read())\n",
        "model.load_weights('model.h5')\n",
        "opt=tf.keras.optimizers.Adam(lr=0.0001,decay=1e-6)\n",
        "model.compile(loss='categorical_crossentropy',optimizer=opt, metrics=['accuracy'])"
      ],
      "metadata": {
        "id": "kTwcnFuIr_8A",
        "colab": {
          "base_uri": "https://localhost:8080/"
        },
        "outputId": "e239c243-8437-47ca-abd1-accf3156638c"
      },
      "execution_count": 36,
      "outputs": [
        {
          "output_type": "stream",
          "name": "stderr",
          "text": [
            "/usr/local/lib/python3.7/dist-packages/keras/optimizer_v2/adam.py:105: UserWarning: The `lr` argument is deprecated, use `learning_rate` instead.\n",
            "  super(Adam, self).__init__(name, **kwargs)\n"
          ]
        }
      ]
    },
    {
      "cell_type": "code",
      "source": [
        "#total loss and accuracy in training the dataset on test set\n",
        "score = model.evaluate(x_test/255., y_test, verbose=1) \n",
        "print(\"Test Loss: \", (score[0]))\n",
        "print(\"Test Accuracy: \",  score[1]*100)"
      ],
      "metadata": {
        "colab": {
          "base_uri": "https://localhost:8080/"
        },
        "id": "-XSJwI6IWUJs",
        "outputId": "0d8d4d89-8fc5-43c6-9469-1d6f48bcee7c"
      },
      "execution_count": 37,
      "outputs": [
        {
          "output_type": "stream",
          "name": "stdout",
          "text": [
            "113/113 [==============================] - 1s 3ms/step - loss: 1.5443 - accuracy: 0.6475\n",
            "Test Loss:  1.5442516803741455\n",
            "Test Accuracy:  64.75341320037842\n"
          ]
        }
      ]
    },
    {
      "cell_type": "code",
      "source": [
        "plt.plot(history.history['loss'], label=\"Training_set\")\n",
        "plt.plot(history.history['val_loss'], label=\"Validation set\")\n",
        "plt.title(\"Model loss\", size=16)\n",
        "plt.ylabel(\"Total Loss\", size=14)\n",
        "plt.xlabel(\"Epochs\", size=14)\n",
        "plt.legend()\n",
        "plt.show()"
      ],
      "metadata": {
        "colab": {
          "base_uri": "https://localhost:8080/",
          "height": 301
        },
        "id": "-S4HRnt0W9Yf",
        "outputId": "05e9dda2-6050-4e8b-df7f-2104edcc1747"
      },
      "execution_count": 38,
      "outputs": [
        {
          "output_type": "display_data",
          "data": {
            "text/plain": [
              "<Figure size 432x288 with 1 Axes>"
            ],
            "image/png": "[encoded data removed]"
          },
          "metadata": {
            "needs_background": "light"
          }
        }
      ]
    },
    {
      "cell_type": "code",
      "source": [
        "plt.plot(history.history['accuracy'], label=\"Training_set\")\n",
        "plt.plot(history.history['val_accuracy'], label=\"Validation set\")\n",
        "plt.title(\"Model Accuracy\", size=16)\n",
        "plt.ylabel(\"Total Accuracy\", size=14)\n",
        "plt.xlabel(\"Epochs\", size=14)\n",
        "plt.legend()\n",
        "plt.show()"
      ],
      "metadata": {
        "colab": {
          "base_uri": "https://localhost:8080/",
          "height": 301
        },
        "id": "jHbwm3IzXDrI",
        "outputId": "0b922b5a-e7dc-4cfa-ead6-a850ecc748d2"
      },
      "execution_count": 39,
      "outputs": [
        {
          "output_type": "display_data",
          "data": {
            "text/plain": [
              "<Figure size 432x288 with 1 Axes>"
            ],
            "image/png": "[encoded data removed]"
          },
          "metadata": {
            "needs_background": "light"
          }
        }
      ]
    },
    {
      "cell_type": "code",
      "source": [
        "from keras.preprocessing import image\n",
        "def pred_emotion(img_path):\n",
        "  emotion_dict = {0: 'anger', 1: 'disgust', 2: 'fear', 3: 'happy', 4: 'sad',5: 'suprise', 6: 'neutral'}\n",
        "  img = image.load_img(img_path, grayscale=True, target_size=(48,48))\n",
        "  x = image.img_to_array(img)\n",
        "  x = np.expand_dims(x, axis=0)\n",
        "  prediction = np.argmax(model.predict(x))\n",
        "  print('The predicted emotion is : ' + emotion_dict[prediction])\n",
        "  my_image = image.load_img(img_path)\n",
        "  plt.imshow(my_image)\n",
        "  result = plt.show()\n",
        "  return result"
      ],
      "metadata": {
        "id": "YEKfc4ylXq99"
      },
      "execution_count": 42,
      "outputs": []
    },
    {
      "cell_type": "code",
      "source": [
        "pred_emotion(\"/content/drive/MyDrive/Cloudy ML/opencv/image1.jpg\")"
      ],
      "metadata": {
        "colab": {
          "base_uri": "https://localhost:8080/",
          "height": 321
        },
        "id": "Ho0lgN6lYDVB",
        "outputId": "a3a23a86-695b-4408-9c65-aa555af1e671"
      },
      "execution_count": 47,
      "outputs": [
        {
          "output_type": "stream",
          "name": "stdout",
          "text": [
            "The predicted emotion is : happy\n"
          ]
        },
        {
          "output_type": "stream",
          "name": "stderr",
          "text": [
            "/usr/local/lib/python3.7/dist-packages/keras_preprocessing/image/utils.py:107: UserWarning: grayscale is deprecated. Please use color_mode = \"grayscale\"\n",
            "  warnings.warn('grayscale is deprecated. Please use '\n"
          ]
        },
        {
          "output_type": "display_data",
          "data": {
            "text/plain": [
              "<Figure size 432x288 with 1 Axes>"
            ],
            "image/png": "[encoded data removed]"
          },
          "metadata": {
            "needs_background": "light"
          }
        }
      ]
    },
    {
      "cell_type": "markdown",
      "source": [
        "#Transfer Learning"
      ],
      "metadata": {
        "id": "AuT6XxW6oEPG"
      }
    },
    {
      "cell_type": "code",
      "source": [
        ""
      ],
      "metadata": {
        "id": "BpfZtcCkoDdb"
      },
      "execution_count": null,
      "outputs": []
    }
  ]
}